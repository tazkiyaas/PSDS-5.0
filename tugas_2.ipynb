{
  "nbformat": 4,
  "nbformat_minor": 0,
  "metadata": {
    "colab": {
      "provenance": [],
      "authorship_tag": "ABX9TyPVdeFbTlLvatbA5YLHtdrn",
      "include_colab_link": true
    },
    "kernelspec": {
      "name": "python3",
      "display_name": "Python 3"
    },
    "language_info": {
      "name": "python"
    }
  },
  "cells": [
    {
      "cell_type": "markdown",
      "metadata": {
        "id": "view-in-github",
        "colab_type": "text"
      },
      "source": [
        "<a href=\"https://colab.research.google.com/github/tazkiyaas/PSDS-5.0/blob/main/tugas_2.ipynb\" target=\"_parent\"><img src=\"https://colab.research.google.com/assets/colab-badge.svg\" alt=\"Open In Colab\"/></a>"
      ]
    },
    {
      "cell_type": "markdown",
      "source": [
        "#**Pengenalan Python**"
      ],
      "metadata": {
        "id": "WX3kf5VZ5RcK"
      }
    },
    {
      "cell_type": "markdown",
      "source": [
        "Python adalah Bahasa pemrograman tingkat tinggi dengan dynamic semantics, bersifat object oriented, dan interpretatif. Bahasa pemrograman ini fokus dikembangkan pada keterbacaan bahasa pemrograman.\n",
        "\n",
        "\n",
        "1.   **Bahasa Pemrograman Tingkat Tinggi (High Level Programming)** Artinya sintaks kode lebih mudah ditafsirkan oleh manusia.\n",
        "2.   **Interpretatif** Ini artinya bahasa ini memerlukan intrepeter atau penerjemah. Ini memungkinkan kita untuk menggunakan Bahasa yang lebih mudah kita pahami.\n",
        "3.   **Object Oriented** Ini berarti bahwa bahasa pemrograman ini berorientasi kepada objek. Hal ini membuat Phyton lebih mudah untuk dikembangkan.\n",
        "4.   **Dynamic Semantic** Phyton secara otomatis akan menyesuaikan tipe dari suatu variable berdasarkan inputnya."
      ],
      "metadata": {
        "id": "6tdMb8jd5ZAX"
      }
    },
    {
      "cell_type": "markdown",
      "source": [
        "#**Mengapa Phyton?**"
      ],
      "metadata": {
        "id": "587Ras0j5bNi"
      }
    },
    {
      "cell_type": "markdown",
      "source": [
        "1. Mudah dipahami\n",
        "2. Grafis & Open Source\n",
        "3. Dinamis\n",
        "4. Memiliki Library Terlengkap untuk Data Sains"
      ],
      "metadata": {
        "id": "EvAZqQkK5gyk"
      }
    },
    {
      "cell_type": "markdown",
      "source": [
        "# **Struktur Program Pada Phyton**"
      ],
      "metadata": {
        "id": "v8n7XKe95qze"
      }
    },
    {
      "cell_type": "markdown",
      "source": [
        "Phyton pada umumnya terdiri dari :\n",
        "1. **Statement**"
      ],
      "metadata": {
        "id": "zvzUGAjK5wd3"
      }
    },
    {
      "cell_type": "code",
      "source": [
        "print(\"belajar Phyton menyenangkan\")\n",
        "print(\"halo dunia\")"
      ],
      "metadata": {
        "colab": {
          "base_uri": "https://localhost:8080/"
        },
        "id": "ghAEPYcP5Szu",
        "outputId": "900d7d31-ea7c-4150-9f87-f723dcab158c"
      },
      "execution_count": 1,
      "outputs": [
        {
          "output_type": "stream",
          "name": "stdout",
          "text": [
            "belajar Phyton menyenangkan\n",
            "halo dunia\n"
          ]
        }
      ]
    },
    {
      "cell_type": "markdown",
      "source": [
        "2. **Variables**"
      ],
      "metadata": {
        "id": "Gts0iwl45_56"
      }
    },
    {
      "cell_type": "code",
      "source": [
        "bilangan1 = 5\n",
        "bilangan2 = 10\n",
        "kalimat = \"Pejuang Data 3\""
      ],
      "metadata": {
        "id": "2PIHRmij6Bh_"
      },
      "execution_count": 3,
      "outputs": []
    },
    {
      "cell_type": "markdown",
      "source": [
        "3. **Literals** : Simbol-simbol yang dapat kita gunakan untuk mengisi suatu variable"
      ],
      "metadata": {
        "id": "yne3pwZZ6cSg"
      }
    },
    {
      "cell_type": "markdown",
      "source": [
        "4. **Operators** : Simbol-simbol yang dapat digunakan untuk mengubah nilai dari satu variable dengan melibatkan satu atau lebih variable dan literal"
      ],
      "metadata": {
        "id": "MrqpyC3E6fIZ"
      }
    },
    {
      "cell_type": "code",
      "source": [
        "bilangan1 + bilangan2"
      ],
      "metadata": {
        "colab": {
          "base_uri": "https://localhost:8080/"
        },
        "id": "OUco5SVs6jcf",
        "outputId": "2dc4cfe8-f593-46a6-c7d8-a9bdec1f1eb9"
      },
      "execution_count": 4,
      "outputs": [
        {
          "output_type": "execute_result",
          "data": {
            "text/plain": [
              "15"
            ]
          },
          "metadata": {},
          "execution_count": 4
        }
      ]
    },
    {
      "cell_type": "markdown",
      "source": [
        "5. **Reserved Words** : Kumpulan kata-kata yang memiliki makna khusus dalam bahasa pemrograman Phyton. Kata `false`, `return`, dan `for` merupakan contoh dari reserved word."
      ],
      "metadata": {
        "id": "-44OAOvR6qaK"
      }
    },
    {
      "cell_type": "markdown",
      "source": [
        "6. **Whitespace** : Pada bahasa Phyton, spasi dan tab memiliki makna khusus untuk menandai serangkaian blok dalam kode Phyton."
      ],
      "metadata": {
        "id": "_m8IEzHo6r-B"
      }
    },
    {
      "cell_type": "markdown",
      "source": [
        "7. **Comments** : Comments merupakan kelumpulan teks yang dituliskan di dalam sebuah program yang tidak akan mempengaruhi hasil dari sebuah pemrograman.\n",
        "\n",
        "Terdapat dua jenis comments di dalam Phyton, yaitu:\n",
        "\n",
        "a. **single line comment** (comments dalam satu baris) seperti contoh berikut:"
      ],
      "metadata": {
        "id": "kEWo-l1y6wEb"
      }
    },
    {
      "cell_type": "code",
      "source": [
        "# Ini adalah Comment\n",
        "print(\"belajar Phyton\")"
      ],
      "metadata": {
        "colab": {
          "base_uri": "https://localhost:8080/"
        },
        "id": "uWAjgGPj60PX",
        "outputId": "78e66b23-60cd-46b2-89a4-94c450f027cf"
      },
      "execution_count": 5,
      "outputs": [
        {
          "output_type": "stream",
          "name": "stdout",
          "text": [
            "belajar Phyton\n"
          ]
        }
      ]
    },
    {
      "cell_type": "markdown",
      "source": [
        "b. **multi line comment** (comments dalam beberapa baris) yang dapat dilakukan seperti pada contoh berikut:"
      ],
      "metadata": {
        "id": "mzBb3wVO6-mK"
      }
    },
    {
      "cell_type": "code",
      "source": [
        "'''\n",
        "Ini adalah komentar panjang\n",
        "Bisa digunakan untuk memberikan penjelasan\n",
        "panjang pada Sell Kode Phyton,\n",
        "Misal dokumentasi program, spesifikasi\n",
        "input output atau lainnya\n",
        "'''\n",
        "print('Belajar Phyton menyenangkan')\n"
      ],
      "metadata": {
        "colab": {
          "base_uri": "https://localhost:8080/"
        },
        "id": "O6xMxnDm6_tN",
        "outputId": "11ddc2e6-ec80-4218-fb19-c75eb64b782b"
      },
      "execution_count": 6,
      "outputs": [
        {
          "output_type": "stream",
          "name": "stdout",
          "text": [
            "Belajar Phyton menyenangkan\n"
          ]
        }
      ]
    }
  ]
}