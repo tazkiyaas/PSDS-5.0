{
  "nbformat": 4,
  "nbformat_minor": 0,
  "metadata": {
    "colab": {
      "provenance": [],
      "include_colab_link": true
    },
    "kernelspec": {
      "name": "python3",
      "display_name": "Python 3"
    },
    "language_info": {
      "name": "python"
    }
  },
  "cells": [
    {
      "cell_type": "markdown",
      "metadata": {
        "id": "view-in-github",
        "colab_type": "text"
      },
      "source": [
        "<a href=\"https://colab.research.google.com/github/tazkiyaas/PSDS-5.0/blob/main/tugas_If_Elif_Else.ipynb\" target=\"_parent\"><img src=\"https://colab.research.google.com/assets/colab-badge.svg\" alt=\"Open In Colab\"/></a>"
      ]
    },
    {
      "cell_type": "markdown",
      "metadata": {
        "id": "HyrCiDSlLL8D"
      },
      "source": [
        "# Percabangan/Struktur Pemilihan"
      ]
    },
    {
      "cell_type": "markdown",
      "metadata": {
        "id": "4hr1u7fWMS5Q"
      },
      "source": [
        "Pada bagian ini, kamu akan membuat keputusan pada bahasa pemrograman Python menggunakan struktur percabangan atau juga sering disebut IF ELSE Statement. Pengambilan keputusan dibutuhkan ketika kamu akan mengeksekusi suatu kode jika sebuah kondisi tertentu dipenuhi.\n",
        "\n",
        "Statement `if ... elif ... else` digunakan pada bahasa Python untuk pengambilan keputusan."
      ]
    },
    {
      "cell_type": "markdown",
      "metadata": {
        "id": "BU12AFYpNIWC"
      },
      "source": [
        "## IF statement"
      ]
    },
    {
      "cell_type": "code",
      "source": [
        "if test expression:\n",
        "  statement(s)"
      ],
      "metadata": {
        "id": "R09z2OZLhgAk"
      },
      "execution_count": null,
      "outputs": []
    },
    {
      "cell_type": "markdown",
      "metadata": {
        "id": "KWgfBr5mNP4i"
      },
      "source": [
        "**Python IF Statement syntax**"
      ]
    },
    {
      "cell_type": "markdown",
      "metadata": {
        "id": "FTrLZx9VNbjm"
      },
      "source": [
        "![Python_if_statement.jpg](data:image/jpeg;base64,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)"
      ]
    },
    {
      "cell_type": "markdown",
      "metadata": {
        "id": "bviyfQpgs2im"
      },
      "source": [
        "**Example: Python if statement**"
      ]
    },
    {
      "cell_type": "code",
      "metadata": {
        "colab": {
          "base_uri": "https://localhost:8080/"
        },
        "id": "2VPiGWmms__c",
        "outputId": "3a4ee6bd-604f-4d59-e8b6-dd2f176c99a9"
      },
      "source": [
        "#Jika angka adalah bilangan positif maka print \"adalah bilangan positif\"\n",
        "\n",
        "angka = 3\n",
        "if angka > 0:\n",
        "  print(angka, \"adalah bilangan positif\")\n",
        "print(\"pernyataan ini selalu ditampilkan\")\n",
        "\n",
        "angka = -1\n",
        "if angka > -1:\n",
        "  print(angka, \"adalah bilangan positif\")\n",
        "print(\"pernyataan ini juga selalu ditampilkan\")"
      ],
      "execution_count": 3,
      "outputs": [
        {
          "output_type": "stream",
          "name": "stdout",
          "text": [
            "3 adalah bilangan positif\n",
            "pernyataan ini selalu ditampilkan\n",
            "pernyataan ini juga selalu ditampilkan\n"
          ]
        }
      ]
    },
    {
      "cell_type": "markdown",
      "metadata": {
        "id": "Fo9HbFyIul0q"
      },
      "source": [
        "## IF ELSE statement"
      ]
    },
    {
      "cell_type": "markdown",
      "metadata": {
        "id": "jTAH-ZQCEOJa"
      },
      "source": [
        "**IF ELSE statement syntax**"
      ]
    },
    {
      "cell_type": "code",
      "metadata": {
        "id": "ZtHgBXo-Fenu"
      },
      "source": [
        "if this expression:\n",
        "    Body of if\n",
        "else :\n",
        "    Body of else\n"
      ],
      "execution_count": null,
      "outputs": []
    },
    {
      "cell_type": "markdown",
      "metadata": {
        "id": "47eXjYoaF3s4"
      },
      "source": [
        "**Python IF ELSE statement flowchart**"
      ]
    },
    {
      "cell_type": "markdown",
      "metadata": {
        "id": "0BI7iM0IGRHH"
      },
      "source": [
        "![Python_if_else_statement.webp](data:image/webp;base64,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)\n",
        "\n"
      ]
    },
    {
      "cell_type": "markdown",
      "metadata": {
        "id": "RdQukYHxGZF3"
      },
      "source": [
        "**Example Python IF ELSE statement**"
      ]
    },
    {
      "cell_type": "code",
      "metadata": {
        "colab": {
          "base_uri": "https://localhost:8080/"
        },
        "id": "gSWUUrlVGO2a",
        "outputId": "59fb6863-924b-4b5a-d2b9-1d39bbf14c29"
      },
      "source": [
        "#Program disusun untuk mengecek apakah angka tersebut kurang dari 0 atau tidak.\n",
        "#Dan menampilkan tulisan yang sesuai\n",
        "\n",
        "angka = 3\n",
        "\n",
        "if angka >= 0:\n",
        "  print(\"bilangan lebih dari atau sama dengan 0\")\n",
        "else:\n",
        "  print(\"Bilangan kurang dari 0\")"
      ],
      "execution_count": 4,
      "outputs": [
        {
          "output_type": "stream",
          "name": "stdout",
          "text": [
            "bilangan lebih dari atau sama dengan 0\n"
          ]
        }
      ]
    },
    {
      "cell_type": "markdown",
      "metadata": {
        "id": "2MAQb1FQJf2v"
      },
      "source": [
        "Bilangan lebih dari sama dengan 0"
      ]
    },
    {
      "cell_type": "code",
      "metadata": {
        "colab": {
          "base_uri": "https://localhost:8080/"
        },
        "id": "YtrXDX6xJjuy",
        "outputId": "53213be5-2f9b-4af1-8f06-20ff3650bd26"
      },
      "source": [
        "#Program disusun untuk mengecek apakah dua buah angka ada\n",
        "#Menampilkan tulisan yang sesuai\n",
        "\n",
        "a = 5\n",
        "b = 5\n",
        "\n",
        "if a==b:\n",
        "  print(\"a dan b bernilai sama\")\n",
        "else:\n",
        "  print(\" a dan b bernilai berbeda\")\n",
        "  pring(\"belajar if else\")"
      ],
      "execution_count": 5,
      "outputs": [
        {
          "output_type": "stream",
          "name": "stdout",
          "text": [
            "a dan b bernilai sama\n"
          ]
        }
      ]
    },
    {
      "cell_type": "code",
      "metadata": {
        "colab": {
          "base_uri": "https://localhost:8080/"
        },
        "id": "l4ZNt3eUPmgx",
        "outputId": "e33c9d04-4089-4ac4-9b70-63f8edd216f8"
      },
      "source": [
        "#Program disusun untuk mengecek apakah perbandingan dua buah angka\n",
        "#Dan menampilkan tulisan yang sesuai.\n",
        "\n",
        "# Membaca 2 angka\n",
        "bil1 = int(input(\"Masukkan bilangan pertama:\"))\n",
        "bil2 = int(input(\"Masukkan bilangan kedua:\"))\n",
        "\n",
        "# Memilih bilangan yang lebih besar\n",
        "if bil1 > bil2:\n",
        "  bil_lebih_bener = bil1\n",
        "else:\n",
        "  bil_lebih_besar = bil2\n",
        "\n",
        "# Menampilkan hasil\n",
        "print(\"Bilangan yang lebih besar adalah:\", bil_lebih_besar)"
      ],
      "execution_count": 7,
      "outputs": [
        {
          "output_type": "stream",
          "name": "stdout",
          "text": [
            "Masukkan bilangan pertama:3\n",
            "Masukkan bilangan kedua:7\n",
            "Bilangan yang lebih besar adalah: 7\n"
          ]
        }
      ]
    },
    {
      "cell_type": "markdown",
      "metadata": {
        "id": "wM0QvZOePCv9"
      },
      "source": [
        "## IF ELIF ELSE statement"
      ]
    },
    {
      "cell_type": "markdown",
      "metadata": {
        "id": "CbsCSyRYPc_m"
      },
      "source": [
        "**Python IF ELIF ELSE statement syntax**"
      ]
    },
    {
      "cell_type": "code",
      "source": [
        "if test ekspression:\n",
        "  Body of if\n",
        "\n",
        "elif test expression:\n",
        "  Body of elif"
      ],
      "metadata": {
        "id": "DdnJC-pChxC0"
      },
      "execution_count": null,
      "outputs": []
    },
    {
      "cell_type": "markdown",
      "metadata": {
        "id": "EdXWnby4QkV8"
      },
      "source": [
        "**Python IF ELIF ELSE Statement**"
      ]
    },
    {
      "cell_type": "markdown",
      "metadata": {
        "id": "o5dWOa3dRsWS"
      },
      "source": [
        "![if-else-ladder.jpg](data:image/jpeg;base64,/9j/4AAQSkZJRgABAQAAAQABAAD/2wBDAAUEBAQEAwUEBAQGBQUGCA0ICAcHCBALDAkNExAUExIQEhIUFx0ZFBYcFhISGiMaHB4fISEhFBkkJyQgJh0gISD/2wBDAQUGBggHCA8ICA8gFRIVICAgICAgICAgICAgICAgICAgICAgICAgICAgICAgICAgICAgICAgICAgICAgICAgICD/wgARCAEdAZoDAREAAhEBAxEB/8QAHAABAAIDAQEBAAAAAAAAAAAAAAQFAQMGAgcI/8QAFgEBAQEAAAAAAAAAAAAAAAAAAAEC/9oADAMBAAIQAxAAAAD9lgAAAEMmAAAAAAAAAAAAAAAAAAAAAAAAAFSWwAAAAAAAAAAAAAAAAAAAAAAAAPKfNj6UuQAAAAAAAAAAAAAAAAAAAAAADEkSvJMIiGpoAAAAAAAAAAAAAAAAAAAAABGNSSjYoHghm0lAAAAAAAAAAAAAAAAAAAAEc0kg3Ec5MtSCdUezURrNpJlA1nowewAAAAAAAAAAAAAADURk3EhQBx5WmTvTYAaCOkldx8aNRIJh9WAAAAAAAAAAAAAAIhrJxkHxQtzQWhDI55PJ0h3YMENI6bWgMgAAGotAAAAAAAAAAACMaklLsIx6K0tShNB0Jg2mw8EQ2Epk0AAAAKgtwAAAAAAAAAAACGnlZh6Ip8sOkOWPrxsMEMzEygAAAAAKgtwAAAAAAAAAAAAYshHqWWZAMEQ8kw9AAAAAAAqC3AAAAAAAAAAAAAB5IRtZlNRU1ktfYAAAAAAAKgtwAAAAAAAAAAAAAAaSsLI3gAAAAAAAA4Q7k9AAAAAAAAAAAAAAAqS2AAAAAAAABGSqLGpZ6lAAAAAAAAAAAAAA5IojoysOvJYAAAAANBoJBuPJDPRMAAAAAAAAAAAAABQkYyRTrDYAAAAhdRGNxIAANZFNpJAAAAAAAAAAAABSF2AAAAADyQz3ZKzc15PkpsKk+tlmDSRzebzBwpfFMW5fGQAAAAAAACkLsAAAAHkiGSWZKMtDaDWYIxPMHsEc0kk5wqiMTDuTIAAAAANKRK9yAcFXewANqyVAAjmglG0HzwqisOlKc8FqVZOPqQMEI0oCgAQDowAAAAQ0imxbEhE0FWbjUZss81QAAiprJi+gcocodaURVH1k9AiHgmHoAAAoi9AAAABDTiLObmt5GOhKotySWJc2WeaoAADBDQTV582nsHguiOaiUbAAAACiL0AAAAESyMkiUYrUbgDBrLHNUAAAB5IaeyUuQaDQSDcAAAAAURegAAAAwZABSF2ADBkAAAAAGsiJ7PJtJC5AAAAABRF6AAAAAAAUhdgAAAAAAAAHNladCeCxN4AAAABRF6AAAAAAAUhdgAAAAAAAAFAUZIKU7oswAAAADmzozIAAAAAAKQuwAAAAAAQ7MQAOKrtYAHmyfnSgBXWbIAHF12kADXbYwAAAAKQuwAAAAAAVxsJkaTYezSeDJpItlwoAFTZOzd5oJAIRMNBIK+rAAAAAFIXYAAAAAAK6vgR10V5JO0Pnp9GOEMn1BLlQAPmlnM5trVWdOQDcbirNZ3KdWoAAAApC7AAAAAABWJPANC7wgAgWWcpQEVes2GdLNRldgQAV6WjQAAAApC7AAAAAABqNIQFpC7QAeyQoARGrygBaMvEAHpZIAAAAOTPBdmAAAAAAAADgDvjIAAAAAAIJ0YAAAAAABSFqbgAAAAAAAAAAAAAAAAAAAAAAAAcSdsAAAAAAAAAAAAAAAAAAAAAAAAADBg9GAZBgwegeTB7PIPR5MmQAAAAAAAAAAAAAAADSfMTUdMcmWJYEA1luayaUp15xxuOvPnhZl0UhqNhJIZ7PpJkAAAAAAAAAAAAAwZMGQAAAAAAAAAAAAAAAAAD/xABJEAABAgQBBQkMCAYCAwEAAAACAQMABBESBRMUITFRBhUiMkFSkpPRECMwMzVAVGFxgZHhIDRCU2J0sbIWJFByocFjc2CCovD/2gAIAQEAAT8B8Dlv5tGKawU6+/8Aqi+Vg/6V/VP6o5hl+6oMQy55pS5eEtL9nshNKaP6iTyXKLaZQtickZFT0vFd+FNUUSlOSMio6WVs/D9mEeotrqZMv8L7/wCnG8Irbxj5oxYbnjVtHmD2wIoI0FKJ6voKiKlFSqRkzb8SujmFqgXkVbV4B81f6UbohrXXqRNaxR5zX3odicaAbFsaCNO46ZA0Ri2ThInEHWsSGOpPzcwwMg+1mx5N4zUbQWldsBjGFOC4QYgwqNjeS36k2+yJjdFhEq0w67OJY+5kgVE5YEkIUIVqi6U7hAJjQhqkWut8RcoOxdfxgHQPQmhU1ouv6F41pclYVURKqtEhFRUqi1T+gEYglTKiRV1zi97HauuAaANKa11qutfotYDLAGLNm4bgYmak4mqlUpohjcuw1Kqw4bb/AHrIATrKLQdi7YXc1/INy++T97Myky0a6UbVPsoi8kAioCIRXFTSu36BtAfGT2LypHfW9ffR9XG+cA4LiVBa9zc9g87JjNz0xKtZVH3zACZ78VVW2h1/1AHuhmkfadYmc2mJByoOjpB3kGuiGEx2VPDGgF82BZZbNgRsya/aK6lF9kYe5ulcxMc9MmVR8r28lVomuShefPE6I97Gu1dkMi0XfELKFzl1p2fQxbE5tvdk5JZ8TMsksLlucAzprtJNMTW6d6VxhcMRlk0vbFJm/vbd3Ia87ZE1upmZdZ5UalFzSZyCMq4uVeTRxU2wuPziFi7mZCbGGa0RVyjnAu1RL7osSfknXgkGHFyIuhR4RS5V4i6YPdU8mHBONtNkAmYPnRUyVv4a1L3Q/uiOULFptto5hGGWDEL1t4fLT7KQ9urmZdnEasy02sowL6OyxqrS1Wlq+uJDGJt7dA9hU0w0NJcZgDaJdS8i1+g6LXHIrC5ya4Byb+5Qk5FVbVX3RfNejh1nyi+a9HDrPlF816OHWfKL5r0cOs+UXzXo4dZ8ovmvRw6z5RfNejh1nyi+a9HDrPlF816OHWfKL5r0cOs+UZw6Mw006yg5StFQq+cGyJrdpE+ckXuN+NS4eeKf6gSQhuFap6u4bDLi1NoC/uGsZNuipYNF16NcS+HSss68623U3XFdVS00JdmyLURVomuJKZwyey4ySA4Ila4qN8El9vLD0/hDMjnLygLAOZIatLx9iJSAscDKCOg0rpSiwLLIBYDQCK8iDoi0a3USu3uKSCiqS0TbGUNzxKUTnlAMiK3Lwz5y+EmPr0n7S/TzomUuUm1yZerljKqGh5LfxJqhNKdx8DclnW2nMm4QqgnzV2xIbn8TafkcuQtoyhDNOo+RrOVSmlI3M4OeC4Sss6gZVXCLgLopVVSH9zE9MyMs1MOA66ziKzNxGvilKtsCKCCCOpNCd3LKehlL/wAXJCM6bnFyhf4Tw0x9ek/aX6eeZGzSyVnq+zCPUW11LC/wvv8ApK8lyi2mUL1akjIqel4rvwpxfnFNFE8PMfXpP2l+nnqoipRUqkZM2/Ero5haoF5FW1UsPmr3CeEVt4x81Iscc8atqc0e2BERG0Uonq8xmPr0n7S/Tz8wE0oY1SO+Z4ktlSyagp+vXtgAFtKAlPM8TxiXk8XlGHWnlLWlo666ITz9fK4f9K/qnmZOiK28YuakPSKTUwxNPIIusLVvlp7Yy1q0eGz18nn+IOzbM8JSYMk4jBkuVVUSiKmyJDdG6eAs43ibTTErMWo2LNxlVVppgcalCm3JUkdbebYzkhMKUCtILdThItNHe4WUYzm1A0i3tWJd9qZlm5hg72nBQhLanhTcBvjL7uVY785r70Pq40A2LaUAadylUosZIg8SVqcxdXygXkrYaZM9i8vnrwoeMNAWopZxF+IxvHhu9DGFZFc1YISAb10UWqaYm8EkJyez11HReVvIkrbijeGxaQm5zDAzcmQcZNhrIibbioqhzV2wIoAIKak8GRiA1IqJFzrnETJjtXX8IBoA0pxucuv6RCJDQkRU9cWON+LW8eaS/wC4B0TW3ilzV1+dn5dY/LufuDwqqiJVVokZQ3PEpo55QDIiVy1M+cvdXSipEq1NfxlPSBYnPnLS7DbwBleVVWsYduln591FzRgQVXEJonUE2rdun/UP7pcWPc/iD7eRYnJUQIhAL0FFXkKqoWiJF5ZiRZeV1t5TGt7XFXum2LiUIax35r/lH/6+cA4LnFX3cqd0d0QuYzM4a1KVKXcFsyJ4R17EXXAYtIHN5oMymXWtoKiopU10rrjD90cjOSEtMOrkHJgVMWeMVEWldEO4xhjM0ss7OALqKgqnNVdSKvJ5mflxj8u5+4PB1jLX6GUv/FyJCM1W50soX+E93dnMVkJB5pmbfscerkwtUlKmvVDToPMi62tRJKpVKRVE9kaKxa3eq2jdyrTTAo2gqgoKDyokJMMhNBKIJXKF6UBbae3VFUWunVFdNO6bQnpXQXIqa4udb46ZQecOv4QJiY1FapEtgknLYlOT9Mq7NGhreiLYqJyRK7mZeWm5aZzt945czMVcoqrdtXXH8KSmYS0kky6IMJQTRERzjV0FrSP4akt8HpoSW2YJDdaNEJCVPb4YzRtsjXUKVgZhwwQhlXKKlU0j2xlnfRHPiPbGWd9Ec+I9sZZ30Rz4j2w9g7ru6ZvE8i5kUS4gvTjfGMs76I58R7YyzvojnxHtjLO+iOfEe2Ms76I58R7YadR5kXR1Fp0/ScaF0LCr7oQnGtBjeHOFP9QJCY3AtU7uN4LNz+MYdPyxhSURxCFXSbVbqcoxim57E8SNt1uZbkiBjJlYZll9PFNeb/mJnB52cxnE20kWLDlmWwV67JgtF0j7IlNzptz7b81MZzkpQGBIlWt6fbpGHbl5qWtzp7KuALiZcHVAnrudo/3De5ebSQdlDNtWbwJkROhDbzit4fvSGcCxNBays80DgybkupsBbQiXQSJEpuZn2nWCulpbIy5tGTClWaJUpU/15Yw7cy7ITmDTAONIcowTU0Q1q8tEp9DLXLayN67eRIWTBwr3lUi/Cqj+kZhLbHOtLtjMJbY51pdsZhLbHOtLtjMJbY51pdsZhLbHOtLtjMJbY51pdsNgjGNI02p2EwpKimq6bk2+DmvqT/8AYv6RnMvKYe29NPAy2gjwjWiRLTsnN3ZrMtvW67CrTuZ1LZ6sllhzlAymT5ba0r3XMQkmp5uROYFJl1Ki3y02wU3LBMLLk8KOoGUUV5u2JOelMQZV6TfR5utLh1RIeT2fZ4AmUUrwWw9qcsZQm/HD/wC46vlCKipVNPdm8bal8RLD2ZV+bmQayxgyicAfesO7pHpzEcHYwkP5efEnMqQIq0HkpWMSxqVwx9iWcE3X36qDYbE1rpjf9ZibYzXgS7so693wOGJD6oTH8RexHBpFgKpOM5Zx7J8b2Jdo+gTyVUQTKHsSMkTnjyr+BNXzhEpq8Avl8Pyy/uTwc19Sf/sX9I3QYbNYruYCUk0RXbmj0lTUtY3l3QqeKPSzoyrky0AgbhoTtU/EiaEpBYVugVJ7MHCkWzYQAZcmFcVXK6Sr9mqaI3ndbnJqemUPDJU5BGMrnSmbZ3VrWNzO+U22eK4mZ1MBZaDSiKI/bptJYxLC8eemsRVozcN5UzN4ZjJjLe0eX/NYl8FmG92BYq9wm8zFtTQ14TldOjZGJYbPTmJTNpfybkiTKBfTvkbnpBzDNz0nJPJR1ptEPhXJX1RIfUGfZ4JWbVuaKxdnIsI9atHhsXbyL3JzB8On3svMsVdQLLxNRVR2aOSG8Kw9p2VcblAApQVBin2EXXE3hslPE2cyzcbXENFUSH3pG9skpgas1IG1ZRVVVW1daQ3hUg09LPNywo5Khk2V5g7O4bogtvGLmprixxzxi2DzR7YERAbRRET1eCXy+H5Zf3J4OYRSlXhRKqoKiQy8gsNirbtUFE4ixnA8xzoLGcDzHOgsZwPMc6CxnjOVRrh3qlyJYur/APLGcDzHOgsZwPMc6CxnA8xzoLGcDzHOgsSQkEi0JJRUTUvg1RFSipWMkQeJKicxdXygXUUrTSw9i8v0DcBtOEvsTlWO+u/8Q/8A18oBsW0oKU8Ivl8Pyy/uTzA/LjH5dz9weZEAmNCS5PXFrrfi1vHml2xnDdFuWxU1oWuLnXOImTHnFr+EA0AaU0kusl1r4ZfL4fll/cnmB+XWPy7n7g80xF0mZmTMJc5gkUqAFK6vXGHboWJ9p5/NH5aWZIgN561BQh1prhvEZF54WWpto3CraIlrprgsTw8GReKcaQDVUFbuMqa4adbeaF1lwXGySqEK1RfCL5fD8sv7k8wPy6x+Xc/cHmky42OJySE4KUv1r6oa3Ost4BO4TnJqE24binRNFy1iZwNHMQkJ+Xmc3ekwVpOAioQrCbk2gGTJudPLSl6IZjVCQ1qtUiSlGpGSblWREQBNQpRPCK43/EAplBrm6pr/ABJ5gfl1j8u5+4PDuuq2oIIXEa010i+Y+4Hp/KL5j7hOn8ovmPuE6fyi+Y+4Hp/KMRwNcQxaVniZFMn4wbuPsi+Y9HHp/KL5j0cen8ovmPRx6fyi+Y+4Hp/KEecywtuNW3alQq/SR50iNAZqgrbVSpF8x9wnT+UXzH3CdP5RfMfcJ0/lF8x9wnT+UFgalujTFsiFKVUL/t7YvmPuE6fyi+Y+4Tp/KL5j7hOn8ovmPuE6fyhXnQUb2aIS26Cr4M/LrH5dz9weHf8ArEt/ev6LGdS2VySTDV9aW3pXuOOtstq484LYDrIloiQioSVRaovcccbabJx0xAB0qRLREhp5p9kXmHBdbLUQrVFhx1ppEV1wQRVQUUlpp2Qs3KoDprMtILOhxb04Ht2QjzT78s6w4LjZIVCFaov0mXAaR83DEByi6SWkNvMvIqsug4ic0q9zLNZbI5UcrS6yumns7rk1LMvNsuvtg67oACKil7O4jrSvKyjgq4KVUK6UTuTWpr/sH9fBn5dY/LufuDw7/wBYlv71/RYLAMX/AJxEw690sSWZavsRtRu1qacNIm2t0+XncmsxnKvJmhNmKMC3o4yfGMckMfnm8XlXWpl/LCgyosmKM28t1eWsOv4m1jAYJJzhFnbQKtpIqyVvH9lU1RjwYquHsjhROaHRy2TVEcVvltVeWJ/DMexLAsVlbJrIGQZo0+4mVXnXer2xiLGJtbmjYwYv50W0QFNfj74fw7GZ2QFCy7qZ0w5kX0RFC0uEta6oxfCcYn8JxljJmSuTomwIkg3N1H564RtGXZVpFVUFFSpa/pbopGaxHc7OSsm1lXlfFbfYSLDGG48w/i01h0nkXHmQEHHbANVTWiIPB1V0rywre6Wk5vbnAN5qqNpOmJHlq6x90MYbPrjIz76zsq2kgTRzM26FQcr+kbm5nEsS/npt7vLQZuKBxHjTjORiLe6JZufyWdXLTMFYMUbHR9uvriWwif8A40TE5q8gzMRU0Pg5TlRE2RjQY6uLjmxP5hkaJm3GRzaulOyHMNxkcSn5oHXAdckmW0mWwRVI0Va8GsGm6nNJKrTrbIuGj4tuXOkn2V1191YlG5trCpUJ18n3kcSpmNpa+XwZ+XWPy7n7g8PMKiPy1ef/AKWLw56fGLw56fGLw56fGBFgDIwRsSLjKmtYvDnp8YvDnp8YvDnp8YvDnp8YvDnp8YMhWdYoqLxvpSxChP1JPGLF4c9PjF4c9PjB5JwFA7CFdaLpRYFWgFBFRRE1IkXhzk+MXhz0+MXhz0+MXhz0+MXhz0+MTJCqNUJF74Pgz8usfl3P3B4cmwcShgJJ60rGbS/o7fRSM2l/R2+ikZtL+jt9FIzaX9Hb6KRMsMJikgKMhRb6pb+GM2lvuG+ikZtL+jt9FIzaX9Hb6KRm0v6O30UgGWQWoNAK+pPpEwwRXEyBLtUYzaX9Hb6KRm0v6O30UjNpf0dvopGbS/o7fRSFYY39EciFM3XRb+JIzaX9Hb6KRm0v6O30UjNpf0dvopGbS/o7fRSBYYFaiyCKnKg+Dn5xiRxJqYmFO1GTTggpco9kSG6CRn0cVpHRQFppBf8AUb4S21zqi7I3wltrnVF2RvhLbXOqLsjfCW2udUXZG+Ettc6ouyN8Jba51Rdkb4S21zqi7I3wltrnVF2RvhLbXOqLsjfCW2udUXZG+Ettc6ouyN8Jba51Rdkb4S21zqi7I3wltrnVF2RvhLbXOqLsjfCW2udUXZG+Ettc6ouyM/ltrnVF2RieeP45JvSk2+Ev9ujS97/xyxn8ttc6ouyN8Jba51Rdkb4S21zqi7I3wltrnVF2RvhLbXOqLsjfCW2udUXZG+Ettc6ouyN8Jba51Rdkb4S21zqi7I3wltrnVF2RvhLbXOqLsjfCW2udUXZG+Ettc6ouyN8Jba51Rdkb4S21zqi7IaNH8aR1tDsFhRUlBU03Jt8wUw33FLh8SvL60gG2262NiNddEpX+puYC0e6QMV0WolVD8e3+rV8FXkiqdysVTuV/oZoqtmia1SJPBMSlMDFq5o5tXAUqomhL6rp5YlpjHTxQGDN1zx+Wsts/47dGj3xiknOzcjKI2iuI2aE+wTlqupTVVPX7oNnGMPLKSyOMMzc42magqGrQWrdpXQlVjI7q8i2mXFPGc1TTTwK8i6IVnHxbmiy2WM3qNAiiKA3o06tcLJY+bsi668TlrLrbwoYoNyrwCVOXRGbbqAlmG2jEXBYaEbFBAE/t3JTSnshljH0n2XXZmrOcOZQODTJU4FNGusYg3uhKfcWRco3wMjpGwdPCvRUqvujCsOflCxJx8rzmJgzBVWvA5IkMLxJl6Um51Mo7LyyjkwIbb6rq0bOWDenybIW5Ow10CRGionB1/HRCSOOzLUtnhIpNzDbqiqpopW7SkSWFz7c1KTc3wyl2HEyYqNtylo/xCvTi8EZO2v2lNKDo7dEb3bpJqTaGfdE3BfZMh0U4J1JUVOSnJBN7qLHxBwfGoomSjVQrpRE1JohxrF94smL659z0Ea6/hAy+6EJ3O1qdZKzIo+lqPV9mzlhZTdEaSxOPn3qbQ1EXBRVat0p69MEzuqUJr+YBHFuydLbdfB9miM13QhNGoTqm0kwFiHbpbt4ddG2GGN1WZO5aZTOVt5ttbtKp6qbYOSx/OWCWaccaZnCWgmIqbKjoro00L/wX/8QAKhABAAEDAgMHBQEAAAAAAAAAAREAITFBcVFhgRAgQFCRwfAwobHR8eH/2gAIAQEAAT8Q+igy/QAIjr5pneZtMUgJizgixwyzSAUI+YTQko5W25wUYabR93r6UBYLIilLPN1XXTTpV5OAV9Ly5B86QS9eHWi75o/nV0oIQsAg7j8yZEkazpeNfQ5PxUX3YV20enlUWNOAnYKMm8UlbuDpUUx14u7r2Se1CAvAlD1aHNsPjsMTdyrbQzBLF7xWkoo0KRJ8eBQfBiGo9j43CaMsHXt21dfWplXCcDp3BY34JJpWYLqsBR87XEZGp8fH5Uz4vD5exg6+lTIrmU7jR3LJ83ozxFQSeYWUsLGBwoG3RkxKSt4LUH6BDEtWNO4CEiYLbDU4yOogdMflSUILPE3NOwKYcUCpLAdKLZuH2sBC52hqVfc9CSNCapEqJDVuSMQMQzM6J44AlJjIniGu1XB4X0SPw7kVdolGxZHRSW2vVksbCCwzJUH9RZSJ3FF90z6wAQgZYaKY2TMBlbJo2mEp6HyZATDyGFaUlXPC4apIZWnx6mocpxqqbteC7CQ7bUYtqw0bOe1IH/XcQY+nRxxRxxxxxxACMWchOI8RBaLCw/71r5eHH3FDAthUjRUgTxD8q1hIiMLnReoN6ADyLFCwRUqGd6us6OFWSREUZiYaEZciXRnlXEFIEAcpwS0jfo07aUphdKCiKMWXjh2FULKYCsOV0LdDLUh3cXpodPJv1JVy47jD+aLdjee+p19aQCIjhOxrBeEqCHQ3og1f1SkIveVkqfvUupk34DUrPk8IgYzEEUW0GBwDskKZGWhVj116USXgySRsFR5R/FSkRN1krpp0owXiFvtftep7k1OOOT7hwfmhULXiHxxoBAAPLP342yJI1eMvEfY6fipvthXbR6dkTzpXX/OtN7K68euT0ihQTwCDzD9eThNMBhJNMAjkvvzqG05Yy78fBaNTPWpKRwi94c0pJhPMp2dlwMv+daYCIwuJF2tCvS2Jy+unWh8cV5Ivu4Qs3KmthgMeBAppM1rBS3kxRxiwupglPQlochTYQkfqiGVwCdgqMp4aldcFQQDLxd3XsQgSORrN4xce2vR6UwrTC22OHxo9TtInQRcuMWvJb1KmU7tpq5TYWiFcLoOdHPAgfTfG4zWGnD79tHX0plBVlJXWo7qp6yCSsvrkNv2rPQ5GB++nlEB+YMqwFFpDwiHQy/igD7hemh0qOwXRJIkpTNeZRhYuMUFzt5wwzkzF7YGi8bsGZJ1QqcGk80u9sFQMOE2dKi4KejYe32Ucs6ZVtwydjTZJYbTMsmgeNnyZSLOU0v2/WT1YxSpd8saOIToKUPjYCAWlJntVbra9KjUBcEja/ao7D2nYGdIDiSlxSgijZhOtJJUMJWgEoJxNDDkkQLOdD90wAOc0Ba5Y0MREg8pmhgA4MOKiwIup2pBIZcDrRb8pLN/09KiX4wzUV+C+ATiSkI9FjqJHKomxy8mWE9Ck4/PPwTIkmCaAPqsOzHBeAVphsyRSPcZMmQ1GCFqcRhDZe7kzZshSoEDLvM4Ao3Rig7MsXRv+npRgLaj2l/RdNAgppCZ51cEdCxy1T9eEhFULvQ0rsP8AJ6ywng5pUCl8nGT+6EkrH21TtOAlmHqwYNzOhwWKd0p5xNMGNyWkmrhNFuBNe1pTegvW16UkVcpp6ies9/FGjRo2Iw4s2gBudF+n8HxVHy0lJQgloVv2k3vDHYMBwudrgjwm1T2RqieVyiwwTq0tfiUIM7aOlrMyeSlzmV8Hn9Boj5ZMNToIDmdZmghAOEuPaGXWcVBUiWGApr6/1xCjCOZo/NlCUZRQAUQ8rM4jEMihkulJAiR+rK0dpW4bZu4KGLA5p169XpQAAAEAUeCTfB8VRS+ArSULN6UOpi1uRy+Cy01hutUyvyaE/cAWQf4KNR4HG5KnxJdopY9b4Qhh4uVDhTDUnNbVJCsqpWsMHLWof+8YHMnT6SwUiKzMJ3j3KQNJE52nTr2CZMTXctYvI0k6amBoAYuVMhSz55hhB1JpJc28awt54t6fCkqymRWJaE3LgZX6ObRd88ru/wClCBrAIKjwiZyQkNVGj7HBjQ2r5/7V8/8Aavn/ALUgoL7nQguOIr5/7V8/9q+f+1fP/alH30IS/wBNEIJCOGr9LcXtr+HKjD/lhw1PbrhcBOwa1HG9Ve33U0HK65Xd18Omj6SCPqoDpoJo0t69zb9vWiU5cQ/fSsfkhdto6+lOpOQZ6lR5imgWK4ZPlkH3pepF3SEhtWoehXhOMa1E7ouMAcY1ioMAnB4ieYJoDwNSBM1GKb0zngYQpG5cC+CQxDayU+jFTDMKX5iVHvUXcsqEsS/UG7CcZnFQ+OgW/kyxhfbu9ffdFC3cvBfTxo7gWUXRBELwAbHeNk2rknKO79998jiPHWBjw7t3330YZspQvKPFwCQ8ixNxwiZmpovlSeTmtijJgSIyJ2C3aFB4q2KPCcng4iULXwZUwXauhSKikwPg5u3pFuhwI0TPeC0ZiA6tOACFInpU1CWLiZnxao59qlchK+AbtDNGroYrMKZB8apAJOVyuXQRTmQUm78nq2tddUi0HhGvQLSGiWQnsNBhhrNanqLG3xtaoRZtYCXh3ApqIaL5bRk2smKf0p4Ziba0UsSeUisbOhmdySraveQSWlBRTKFAwP8Aq9zIJQAaTdOS0xoTBdm0xTeVKnFkhtLpUmsEkKKC6jBFXlo3FyGDzSJGKEqA/W2+XKqgnJgvWzIkb0fbJ+mi6OwcKbg1AFlRIqAfSKGIBSQgXxUBAQErtX8lX8lX8lTTDkQLzdaP8lX8lX8lX8lX8lRK4GDy7wiB12v5Kv5KpTjxHBwRoSfQgAORX8tX8lX8lX8lX8lRwhiHn4qBrXqCH3r5t7V829q+be1fNvagAXiCGNlfLvavm3tXzb2r5t7VoPOTHvKl3IFa+be1fNvavm3tXzb2rVb9iJq+be1fNvavm3tXzb2oTj8AT6Z41+wzwi1Ae/vy/dHgmTJkyZMmTJkyZMmTJkyZNcmEaxZYZSdK1AfXkyZMmTJkyZMmTJkyZLnFCxIFhoeAnaaGETOKpSy5hyc48zVLuoFjzVNWdk1PbNDPbCUJJkrFKXsdjDMFYpS+OxB5Hl7AbxQiCnbMBazijB0ykghgmbxky1BMhjdztSQYsqPnz36DehhtYoZ554Hc+0ecUv2LE0yOTKbLTwxdwCwRYhpghGE9k0uBUuDzbC3gl1Klo96PiITGJU/ocdqCMwRtRTYni7ALCYZVeHZrakYXQjDNJ5ZoxMwlxkggo4AROhUBEE6qSEqJPyNlMoQszmrirmM+II1CpRNuSejJQwVpMP5PGhF0WUoBLEoDN11QsKu3L+5CsRB4clQqUMckmQt0TmRFpVwdkXMIlknFFt2ABalfopkCmlqsUrhCRtwo8ZHZHk3/xAAbEQADAQADAQAAAAAAAAAAAAAAARFQEDCAkP/aAAgBAgEBPwD7WLiEIQhCEy1xCEIQhCay1F4nWUxdK9Rf/8QAHhEBAQACAQUBAAAAAAAAAAAAEQABUHAQIEBggDD/2gAIAQMBAT8A4kI2JHsZHKJH1CzMzMz5JHl42mPyNVj0IiI5TxtMd2Nc6wjqRER3kR1IiPjv/9k=)"
      ]
    },
    {
      "cell_type": "markdown",
      "metadata": {
        "id": "ARUXoRoJR1GK"
      },
      "source": [
        "**Example: Python IF ELIF ELSE statement**"
      ]
    },
    {
      "cell_type": "code",
      "metadata": {
        "colab": {
          "base_uri": "https://localhost:8080/"
        },
        "id": "6cuczGLIRJNy",
        "outputId": "bbc04839-78bf-4a31-d17f-7c7e410192bf"
      },
      "source": [
        "#Program disusun untuk mengacak apakah angka merupakan bilangan positif, negatif, atau nol\n",
        "#dan menampilkan tulisan yang sesuai\n",
        "\n",
        "angka = 3.4\n",
        "\n",
        "if angka > 0:\n",
        "  print(\"bilangan positif\")\n",
        "elif angka == 0:\n",
        "  print(\"nol\")\n",
        "else:\n",
        "  print(\"bilangan negatif\")"
      ],
      "execution_count": 9,
      "outputs": [
        {
          "output_type": "stream",
          "name": "stdout",
          "text": [
            "bilangan positif\n"
          ]
        }
      ]
    },
    {
      "cell_type": "code",
      "metadata": {
        "colab": {
          "base_uri": "https://localhost:8080/"
        },
        "id": "BsC7rlsnaCVr",
        "outputId": "c618fbe7-46f5-4f55-a1ee-238525544d95"
      },
      "source": [
        "#Statement if\n",
        "x = 4\n",
        "if x % 2 == 0: # jika x dibagi 2 sisanya sama dengan 0\n",
        "  print(\"x habis dibagi 2\")\n",
        "\n",
        "#Statement if ... elif ... else\n",
        "x = 7\n",
        "if x % 2 == 0: # jika x dibagi 2 sisanya sama dengan 0\n",
        "  print(\"x habis dibagi 2\")\n",
        "elif x % 3 == 0: # jika x dibagi 3 sisanya sama dengan 0\n",
        "  print(\"x habis dibagi 3\")\n",
        "elif x % 5 == 0: # jika x dibagi 5 sisanya sama dengan 0\n",
        "  print(\"x habis dibagi 5\")\n",
        "else:\n",
        "  print(\"x tidak habis dibagi dua, tiga, ataupun lima.\")"
      ],
      "execution_count": 10,
      "outputs": [
        {
          "output_type": "stream",
          "name": "stdout",
          "text": [
            "x habis dibagi 2\n",
            "x tidak habis dibagi dua, tiga, ataupun lima.\n"
          ]
        }
      ]
    },
    {
      "cell_type": "markdown",
      "metadata": {
        "id": "8YuKKEHBbw4U"
      },
      "source": [
        "## Python Nested IF Statement"
      ]
    },
    {
      "cell_type": "markdown",
      "metadata": {
        "id": "PkiR75Wub5rx"
      },
      "source": [
        "**Example: Python NASTED IF Statement**"
      ]
    },
    {
      "cell_type": "code",
      "metadata": {
        "colab": {
          "base_uri": "https://localhost:8080/"
        },
        "id": "UqmSWmq2cGhP",
        "outputId": "d9714fc1-7724-4a5c-b033-33de99b6bdb2"
      },
      "source": [
        "#Program disusun untuk mengecek apakah angka merupakan bilangan positif, negatif, atau nol\n",
        "#dan menampilkan tulisan sesuai\n",
        "\n",
        "angka = float(input(\"masukkan angka:\"))\n",
        "if angka >= 0:\n",
        "  if angka == 0:\n",
        "    print(\"nol\")\n",
        "  else:\n",
        "    print(\"bilangan positif\")\n",
        "else:\n",
        "    print(\"bilangan negatif\")"
      ],
      "execution_count": 11,
      "outputs": [
        {
          "output_type": "stream",
          "name": "stdout",
          "text": [
            "masukkan angka:4\n",
            "bilangan positif\n"
          ]
        }
      ]
    },
    {
      "cell_type": "markdown",
      "metadata": {
        "id": "USYzOJ66fAD3"
      },
      "source": [
        "# Latihan"
      ]
    },
    {
      "cell_type": "markdown",
      "metadata": {
        "id": "vYqmd-nffETA"
      },
      "source": [
        "fungsi \"Mahal_Diskon\" dengan ketentuan:\n",
        "\n",
        "\n",
        "*   Input berupa data harga produk dengan tipe data numeruk tunggal\n",
        "*   Kategori input adalah \"murah\" dan \"mahal\" kemudian diskon ada 3 kategori \"10%\" \"20%\" \"40%\"\n",
        "\n",
        "*   Output pertama berupa teks/string yang menyatakan \"mahal\" atau \"murah\" dan keterangan \"kamu mendapat diskon ...\"\n",
        "*   Output kedua adalah harga yang perlu dibayarkan\n",
        "\n",
        "\n",
        "\n",
        "\n",
        "\n"
      ]
    },
    {
      "cell_type": "code",
      "metadata": {
        "id": "H7I2R8mMgJ7T",
        "colab": {
          "base_uri": "https://localhost:8080/"
        },
        "outputId": "dc0f7bdd-d1ee-466b-b654-fcc91d9429f7"
      },
      "source": [
        "Mahal = int(input(\"Harga barang: Rp\"))\n",
        "\n",
        "if Mahal > 5000:\n",
        "  x = Mahal*40/100\n",
        "  y = Mahal-x\n",
        "elif Mahal > 3000:\n",
        "  x = Mahal*20/100\n",
        "elif Mahal > 1000:\n",
        "   x = Mahal*10/100\n",
        "else:\n",
        "    print(\"murah\")\n",
        "\n",
        "print(\"Harga yang perlu dibayarkan:\", y)\n"
      ],
      "execution_count": 12,
      "outputs": [
        {
          "output_type": "stream",
          "name": "stdout",
          "text": [
            "Harga barang: Rp38000\n",
            "Harga yang perlu dibayarkan: 22800.0\n"
          ]
        }
      ]
    }
  ]
}