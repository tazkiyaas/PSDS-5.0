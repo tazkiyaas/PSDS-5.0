{
  "nbformat": 4,
  "nbformat_minor": 0,
  "metadata": {
    "colab": {
      "provenance": [],
      "include_colab_link": true
    },
    "kernelspec": {
      "name": "python3",
      "display_name": "Python 3"
    },
    "language_info": {
      "name": "python"
    }
  },
  "cells": [
    {
      "cell_type": "markdown",
      "metadata": {
        "id": "view-in-github",
        "colab_type": "text"
      },
      "source": [
        "<a href=\"https://colab.research.google.com/github/tazkiyaas/PSDS-5.0/blob/main/tugas_Perulangan_For__dan_While.ipynb\" target=\"_parent\"><img src=\"https://colab.research.google.com/assets/colab-badge.svg\" alt=\"Open In Colab\"/></a>"
      ]
    },
    {
      "cell_type": "markdown",
      "metadata": {
        "id": "lDLNWlUo7f3W"
      },
      "source": [
        "# Looping/Perulangan"
      ]
    },
    {
      "cell_type": "markdown",
      "metadata": {
        "id": "RrgL9hem7lPM"
      },
      "source": [
        "### For Loop"
      ]
    },
    {
      "cell_type": "markdown",
      "metadata": {
        "id": "rqw6MTEb7roh"
      },
      "source": [
        "Perulangan`for` digunakan untuk melakukan iterasi di dalam `sequence` seperti `list, tuple, string` dan `array` atau objek yang dapat diiterasi lainnya.\n",
        "\n",
        "**For loop syntax**  "
      ]
    },
    {
      "cell_type": "code",
      "source": [
        "for val in sequence:\n",
        "    loop body"
      ],
      "metadata": {
        "id": "ovse9gJTg8kR"
      },
      "execution_count": null,
      "outputs": []
    },
    {
      "cell_type": "markdown",
      "metadata": {
        "id": "N7i-L0USHzbC"
      },
      "source": [
        "Example: Python for Loop"
      ]
    },
    {
      "cell_type": "code",
      "metadata": {
        "colab": {
          "base_uri": "https://localhost:8080/"
        },
        "id": "jYDyMF3pIFmO",
        "outputId": "061a0adc-4e2d-440b-a3e9-e56b14434319"
      },
      "source": [
        "#Program untuk menghitung jumlah semua angka dalam sebuah list\n",
        "L1 = [2, 4, 5, 7, 9]\n",
        "jumlah = 0\n",
        "\n",
        "# iterasi di dalam list\n",
        "for i in L1:\n",
        "   jumlah = jumlah + i\n",
        "\n",
        "print(jumlah)"
      ],
      "execution_count": 4,
      "outputs": [
        {
          "output_type": "stream",
          "name": "stdout",
          "text": [
            "27\n"
          ]
        }
      ]
    },
    {
      "cell_type": "markdown",
      "metadata": {
        "id": "yYZiNQrLJFrh"
      },
      "source": [
        "### The range() function"
      ]
    },
    {
      "cell_type": "code",
      "metadata": {
        "colab": {
          "base_uri": "https://localhost:8080/"
        },
        "id": "6d4wqZg_JEfY",
        "outputId": "0a639cd2-e59f-4805-9bcb-4a430a4de28a"
      },
      "source": [
        "#Program untuk melakukan iterasi di dalam list melalui indeks\n",
        "minuman = [\"teh\", \"boba\", \"kopi\", \"susu\"]\n",
        "p = len(minuman)\n",
        "\n",
        "#iterasi di dalam list melalui indeks\n",
        "for i in range(p):\n",
        "  print(minuman[i])"
      ],
      "execution_count": 8,
      "outputs": [
        {
          "output_type": "stream",
          "name": "stdout",
          "text": [
            "teh\n",
            "boba\n",
            "kopi\n",
            "susu\n"
          ]
        }
      ]
    },
    {
      "cell_type": "markdown",
      "metadata": {
        "id": "e2VzvhieKWBG"
      },
      "source": [
        "### For loop with else"
      ]
    },
    {
      "cell_type": "code",
      "metadata": {
        "colab": {
          "base_uri": "https://localhost:8080/"
        },
        "id": "I1zSbEupKZEq",
        "outputId": "7a85f9c7-9100-466f-daff-670ae55f7d01"
      },
      "source": [
        "#Contoh untuk loop menggunakan else\n",
        "for i in range(p):\n",
        "    print(minuman[i])\n",
        "else:\n",
        "    print(\"Elemen sudah habis\")"
      ],
      "execution_count": 9,
      "outputs": [
        {
          "output_type": "stream",
          "name": "stdout",
          "text": [
            "teh\n",
            "boba\n",
            "kopi\n",
            "susu\n",
            "Elemen sudah habis\n"
          ]
        }
      ]
    },
    {
      "cell_type": "markdown",
      "metadata": {
        "id": "7tRmQ6PCK6iG"
      },
      "source": [
        "## Latihan 1"
      ]
    },
    {
      "cell_type": "code",
      "metadata": {
        "colab": {
          "base_uri": "https://localhost:8080/"
        },
        "id": "XGr5Y4ryK_ca",
        "outputId": "a68be424-98bf-4fef-89f8-30bd88d3ca76"
      },
      "source": [
        "list_tagihan = [50000, 75000, -1500000, 125000, 300000, -50000, 200000]\n",
        "jumlah = 0\n",
        "\n",
        "#Iterasi di dalam list\n",
        "for i in list_tagihan:\n",
        "    jumlah = jumlah + i\n",
        "\n",
        "print(jumlah)"
      ],
      "execution_count": 10,
      "outputs": [
        {
          "output_type": "stream",
          "name": "stdout",
          "text": [
            "-800000\n"
          ]
        }
      ]
    },
    {
      "cell_type": "markdown",
      "metadata": {
        "id": "8gufTn47MG9p"
      },
      "source": [
        "# While Loop"
      ]
    },
    {
      "cell_type": "markdown",
      "metadata": {
        "id": "EOERrYmRMJzI"
      },
      "source": [
        "While loop pada Python digunakan untuk melakukan iterasi pada blok kode selama nilai dari `resr expresion` adalah `true`.\n",
        "\n",
        "**Syntax while loop in Python**"
      ]
    },
    {
      "cell_type": "code",
      "source": [
        "while test_expression:\n",
        "    body of while"
      ],
      "metadata": {
        "id": "jWQJwPn-hEzj"
      },
      "execution_count": null,
      "outputs": []
    },
    {
      "cell_type": "markdown",
      "metadata": {
        "id": "sGhCGW93MoUa"
      },
      "source": [
        "**Example: Python while loop**"
      ]
    },
    {
      "cell_type": "code",
      "metadata": {
        "colab": {
          "base_uri": "https://localhost:8080/"
        },
        "id": "AbTpYegYMwpt",
        "outputId": "500ac840-2165-4009-e6d8-ab0fe0f3a65d"
      },
      "source": [
        "#Program untuk menjumlahkan semua\n",
        "#Bilangan asli hingga suku ke-n\n",
        "#jum = 1+2+3+...+n\n",
        "\n",
        "n = 10\n",
        "jumlah = 0\n",
        "i = 1\n",
        "\n",
        "while i <= n:\n",
        "  jumlah = jumlah + i\n",
        "  i = i + 1\n",
        "\n",
        "print(jumlah)"
      ],
      "execution_count": 12,
      "outputs": [
        {
          "output_type": "stream",
          "name": "stdout",
          "text": [
            "55\n"
          ]
        }
      ]
    },
    {
      "cell_type": "markdown",
      "metadata": {
        "id": "RN3OGREqOFkd"
      },
      "source": [
        "### While loop with else\n",
        "\n",
        "Sama dengan `foor loop`, kita dapat mengkombinasikan `while loop` dengan blok `else`.\n",
        "\n",
        "Bagian `else` akan dieksekusi jika nilai pada `test expression` pada `while loop` bernilai false."
      ]
    },
    {
      "cell_type": "code",
      "metadata": {
        "colab": {
          "base_uri": "https://localhost:8080/"
        },
        "id": "JVfNf2ibOEKj",
        "outputId": "8450d300-da15-4f21-b0cd-b5083fdd6775"
      },
      "source": [
        "jum = 0\n",
        "i = 1\n",
        "while i <= n:\n",
        "  jum = jum + i\n",
        "  i = i +1\n",
        "else:\n",
        "  print(jum)   #dieksekusi di luar looping"
      ],
      "execution_count": 13,
      "outputs": [
        {
          "output_type": "stream",
          "name": "stdout",
          "text": [
            "55\n"
          ]
        }
      ]
    },
    {
      "cell_type": "markdown",
      "metadata": {
        "id": "X2YcMvnkPDHj"
      },
      "source": [
        "## Latihan 2"
      ]
    },
    {
      "cell_type": "code",
      "metadata": {
        "colab": {
          "base_uri": "https://localhost:8080/"
        },
        "id": "v14GH759PGsR",
        "outputId": "fc61f87e-172a-4c61-91e9-754e87a66861"
      },
      "source": [
        "tagihan = [50000, 75000, 125000, 300000, 200000]\n",
        "i = 1\n",
        "n = 5\n",
        "\n",
        "while i <= n:\n",
        "  jumlah = jumlah + i\n",
        "  i = i + 1\n",
        "print(jumlah)"
      ],
      "execution_count": 14,
      "outputs": [
        {
          "output_type": "stream",
          "name": "stdout",
          "text": [
            "70\n"
          ]
        }
      ]
    }
  ]
}