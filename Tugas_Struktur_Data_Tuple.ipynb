{
  "cells": [
    {
      "cell_type": "markdown",
      "metadata": {
        "id": "view-in-github",
        "colab_type": "text"
      },
      "source": [
        "<a href=\"https://colab.research.google.com/github/tazkiyaas/PSDS-5.0/blob/main/Tugas_Struktur_Data_Tuple.ipynb\" target=\"_parent\"><img src=\"https://colab.research.google.com/assets/colab-badge.svg\" alt=\"Open In Colab\"/></a>"
      ]
    },
    {
      "cell_type": "markdown",
      "metadata": {
        "id": "acWN6eNjmir_"
      },
      "source": [
        "## Struktur Data Tuple"
      ]
    },
    {
      "cell_type": "markdown",
      "metadata": {
        "id": "uQL7d7pJmqVq"
      },
      "source": [
        "Tuple adalah jenis dari struktur data yang tidak dapat diubah elemennya. Umumnya Tuple digunakan untuk data yang bersifat sekali tulis dan dapat dieksekusi lebih cepat. Tuple didefinisikan dengan kurung dan elemen yang dipisahkan dengan koma."
      ]
    },
    {
      "cell_type": "code",
      "execution_count": 1,
      "metadata": {
        "colab": {
          "base_uri": "https://localhost:8080/"
        },
        "id": "2Y-SaC15nLX4",
        "outputId": "dab44242-75bb-46f2-cec1-f7f843bbacf9"
      },
      "outputs": [
        {
          "output_type": "stream",
          "name": "stdout",
          "text": [
            "ini adalah Tuple (1, 'dua', True, (1+2j))\n"
          ]
        }
      ],
      "source": [
        "# Contoh Tuple\n",
        "T1 = (1, \"dua\", True, 1+2j)\n",
        "print (\"ini adalah Tuple\", T1)"
      ]
    },
    {
      "cell_type": "code",
      "execution_count": 2,
      "metadata": {
        "colab": {
          "base_uri": "https://localhost:8080/"
        },
        "id": "nW763HIkn8S2",
        "outputId": "9a423c3e-d9f5-47c2-bc21-7d74990ca2d9"
      },
      "outputs": [
        {
          "output_type": "execute_result",
          "data": {
            "text/plain": [
              "tuple"
            ]
          },
          "metadata": {},
          "execution_count": 2
        }
      ],
      "source": [
        "# Menampilkan tipe struktur data\n",
        "type(T1)"
      ]
    },
    {
      "cell_type": "markdown",
      "metadata": {
        "id": "Ay1p5K1TpQr5"
      },
      "source": [
        "**Latihan**"
      ]
    },
    {
      "cell_type": "code",
      "execution_count": 6,
      "metadata": {
        "colab": {
          "base_uri": "https://localhost:8080/"
        },
        "id": "wivZ3-G4pTz8",
        "outputId": "b1e868f5-9bef-45bb-8796-47ff25bc78ab"
      },
      "outputs": [
        {
          "output_type": "stream",
          "name": "stdout",
          "text": [
            "ini adalah Tuple buatan saya (3, 'kita', False, (5+3j))\n"
          ]
        }
      ],
      "source": [
        "#Tuple 1\n",
        "T1 = (3, \"kita\", False, 5+3j)\n",
        "print (\"ini adalah Tuple buatan saya\", T1)"
      ]
    },
    {
      "cell_type": "markdown",
      "metadata": {
        "id": "rAgM8-_TqEz6"
      },
      "source": [
        "**Sifat-sifat Tuple**"
      ]
    },
    {
      "cell_type": "code",
      "execution_count": 7,
      "metadata": {
        "colab": {
          "base_uri": "https://localhost:8080/"
        },
        "id": "PAIgqfsaqDjD",
        "outputId": "e7c42b73-1e43-4e17-f1ca-26e09987873b"
      },
      "outputs": [
        {
          "output_type": "execute_result",
          "data": {
            "text/plain": [
              "(3, 'kita', False)"
            ]
          },
          "metadata": {},
          "execution_count": 7
        }
      ],
      "source": [
        "#Terurut/Ordered\n",
        "T1[0:3]"
      ]
    },
    {
      "cell_type": "code",
      "execution_count": 8,
      "metadata": {
        "colab": {
          "base_uri": "https://localhost:8080/",
          "height": 182
        },
        "id": "vIqkAEspqfSv",
        "outputId": "54707cde-0e5d-49c3-8478-775490ac0d59"
      },
      "outputs": [
        {
          "output_type": "error",
          "ename": "TypeError",
          "evalue": "ignored",
          "traceback": [
            "\u001b[0;31m---------------------------------------------------------------------------\u001b[0m",
            "\u001b[0;31mTypeError\u001b[0m                                 Traceback (most recent call last)",
            "\u001b[0;32m<ipython-input-8-fe8d92c141a4>\u001b[0m in \u001b[0;36m<cell line: 2>\u001b[0;34m()\u001b[0m\n\u001b[1;32m      1\u001b[0m \u001b[0;31m#Tibak bisa diganti/Immutable\u001b[0m\u001b[0;34m\u001b[0m\u001b[0;34m\u001b[0m\u001b[0m\n\u001b[0;32m----> 2\u001b[0;31m \u001b[0mT1\u001b[0m\u001b[0;34m[\u001b[0m\u001b[0;36m2\u001b[0m\u001b[0;34m]\u001b[0m \u001b[0;34m=\u001b[0m \u001b[0;34m\"manusia\"\u001b[0m\u001b[0;34m\u001b[0m\u001b[0;34m\u001b[0m\u001b[0m\n\u001b[0m",
            "\u001b[0;31mTypeError\u001b[0m: 'tuple' object does not support item assignment"
          ]
        }
      ],
      "source": [
        "#Tibak bisa diganti/Immutable\n",
        "T1[2] = \"manusia\""
      ]
    },
    {
      "cell_type": "code",
      "execution_count": 9,
      "metadata": {
        "colab": {
          "base_uri": "https://localhost:8080/"
        },
        "id": "eSwsHQ3MqxJ6",
        "outputId": "0faa1ebd-3a33-4b9b-c9e5-ac6ab587a206"
      },
      "outputs": [
        {
          "output_type": "stream",
          "name": "stdout",
          "text": [
            "elemen kedua dari Tuple T1 adalah: False\n"
          ]
        }
      ],
      "source": [
        "#Dapat diindeks/slicing\n",
        "print(\"elemen kedua dari Tuple T1 adalah:\", T1[2])"
      ]
    },
    {
      "cell_type": "code",
      "execution_count": 10,
      "metadata": {
        "colab": {
          "base_uri": "https://localhost:8080/"
        },
        "id": "OkLPPuYLrrWB",
        "outputId": "1b929b60-d89a-4722-f756-4bcfc1b756db"
      },
      "outputs": [
        {
          "output_type": "execute_result",
          "data": {
            "text/plain": [
              "(3, 2.4, True, 2.4)"
            ]
          },
          "metadata": {},
          "execution_count": 10
        }
      ],
      "source": [
        "#Dapat diizinkan duplikasi\n",
        "T2 = (3, 2.4, True, 2.4)\n",
        "T2"
      ]
    },
    {
      "cell_type": "markdown",
      "metadata": {
        "id": "c_H_QW1zsEKD"
      },
      "source": [
        "**Menggabungkan Tiple**"
      ]
    },
    {
      "cell_type": "code",
      "execution_count": 11,
      "metadata": {
        "colab": {
          "base_uri": "https://localhost:8080/"
        },
        "id": "_STyWXebsIrl",
        "outputId": "a90abfd2-adcf-47be-9b63-619582474e91"
      },
      "outputs": [
        {
          "output_type": "execute_result",
          "data": {
            "text/plain": [
              "(3, 'kita', False, (5+3j), 3, 2.4, True, 2.4)"
            ]
          },
          "metadata": {},
          "execution_count": 11
        }
      ],
      "source": [
        "#Menggabungkan tuple\n",
        "T3 = T1 + T2\n",
        "T3"
      ]
    },
    {
      "cell_type": "markdown",
      "metadata": {
        "id": "8gxGbaRCsjDo"
      },
      "source": [
        "**Latihan 2**"
      ]
    },
    {
      "cell_type": "code",
      "execution_count": 12,
      "metadata": {
        "colab": {
          "base_uri": "https://localhost:8080/"
        },
        "id": "oY3Fgq-WsiZB",
        "outputId": "b8e68794-79aa-4688-f272-5c48a765dbe6"
      },
      "outputs": [
        {
          "output_type": "execute_result",
          "data": {
            "text/plain": [
              "(15, 9.25, True, 9.25)"
            ]
          },
          "metadata": {},
          "execution_count": 12
        }
      ],
      "source": [
        "#Tuple 2\n",
        "T2 = (15, 9.25, True, 9.25)\n",
        "T2"
      ]
    },
    {
      "cell_type": "code",
      "execution_count": 13,
      "metadata": {
        "colab": {
          "base_uri": "https://localhost:8080/"
        },
        "id": "8pfXgxcHtjrO",
        "outputId": "62933685-a2a2-4e07-9680-6999d7ee55b6"
      },
      "outputs": [
        {
          "output_type": "execute_result",
          "data": {
            "text/plain": [
              "(3, 'kita', False, (5+3j), 15, 9.25, True, 9.25)"
            ]
          },
          "metadata": {},
          "execution_count": 13
        }
      ],
      "source": [
        "#Gabungan Tuple\n",
        "T3 = T1 + T2\n",
        "T3"
      ]
    }
  ],
  "metadata": {
    "colab": {
      "provenance": [],
      "include_colab_link": true
    },
    "kernelspec": {
      "display_name": "Python 3",
      "name": "python3"
    },
    "language_info": {
      "name": "python"
    }
  },
  "nbformat": 4,
  "nbformat_minor": 0
}