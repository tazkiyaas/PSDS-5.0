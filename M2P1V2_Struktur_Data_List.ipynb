{
  "nbformat": 4,
  "nbformat_minor": 0,
  "metadata": {
    "colab": {
      "provenance": [],
      "include_colab_link": true
    },
    "kernelspec": {
      "name": "python3",
      "display_name": "Python 3"
    },
    "language_info": {
      "name": "python"
    }
  },
  "cells": [
    {
      "cell_type": "markdown",
      "metadata": {
        "id": "view-in-github",
        "colab_type": "text"
      },
      "source": [
        "<a href=\"https://colab.research.google.com/github/tazkiyaas/PSDS-5.0/blob/main/M2P1V2_Struktur_Data_List.ipynb\" target=\"_parent\"><img src=\"https://colab.research.google.com/assets/colab-badge.svg\" alt=\"Open In Colab\"/></a>"
      ]
    },
    {
      "cell_type": "markdown",
      "metadata": {
        "id": "X0vA91WatQms"
      },
      "source": [
        "### List"
      ]
    },
    {
      "cell_type": "markdown",
      "metadata": {
        "id": "k0bmVNHewIV7"
      },
      "source": [
        "List adalah jenis kumpulan data terurut (ordered sequence) dan merupakan salah satu variabel yang sering digunakan pada Python. Serupa namun tak sama array pada bahasa pemrograman lainnya. Bedanya, elemen List pada Python tidak harus memiliki tipe data yang sama. Mendeklarasikan List cukup mudah dengan kurung siku dan elemen yang dipisahkan dengan koma.\n",
        "\n",
        "Setiap data di dalamnya dapat diakses dengan indeks yang dimulai dari 0."
      ]
    },
    {
      "cell_type": "code",
      "metadata": {
        "colab": {
          "base_uri": "https://localhost:8080/"
        },
        "id": "DvoQXzWTx-B2",
        "outputId": "93bc8089-7c69-418a-9d92-a00bf01faeb4"
      },
      "source": [
        "# Contoh List\n",
        "L1 = [1, 4, 2, 13]\n",
        "\n",
        "print(type(L1))"
      ],
      "execution_count": 1,
      "outputs": [
        {
          "output_type": "stream",
          "name": "stdout",
          "text": [
            "<class 'list'>\n"
          ]
        }
      ]
    },
    {
      "cell_type": "code",
      "metadata": {
        "colab": {
          "base_uri": "https://localhost:8080/"
        },
        "id": "Dz-ItwBBzQx3",
        "outputId": "6bfa27a0-b329-47e6-e452-dfb2fcd45b15"
      },
      "source": [
        "L2 = [\"a\", \"Python\", 3]\n",
        "L2"
      ],
      "execution_count": 2,
      "outputs": [
        {
          "output_type": "execute_result",
          "data": {
            "text/plain": [
              "['a', 'Python', 3]"
            ]
          },
          "metadata": {},
          "execution_count": 2
        }
      ]
    },
    {
      "cell_type": "code",
      "metadata": {
        "colab": {
          "base_uri": "https://localhost:8080/"
        },
        "id": "utLG1K61zo6z",
        "outputId": "ccd1c8dc-60c4-48e6-c396-f964f689ddd9"
      },
      "source": [
        "print(L1)\n",
        "print(L2)"
      ],
      "execution_count": 3,
      "outputs": [
        {
          "output_type": "stream",
          "name": "stdout",
          "text": [
            "[1, 4, 2, 13]\n",
            "['a', 'Python', 3]\n"
          ]
        }
      ]
    },
    {
      "cell_type": "markdown",
      "metadata": {
        "id": "SKctekCtz7EY"
      },
      "source": [
        "**Latihan**"
      ]
    },
    {
      "cell_type": "code",
      "metadata": {
        "colab": {
          "base_uri": "https://localhost:8080/"
        },
        "id": "tx7zWbirz-gF",
        "outputId": "33bc68fe-1d12-4cac-9f81-1ad942ebf5f8"
      },
      "source": [
        "L1 = [3, 7, 11, 14]\n",
        "L2 = [\"Ya\", \"q\", 5]\n",
        "\n",
        "print(L1)\n",
        "print(L2)"
      ],
      "execution_count": 4,
      "outputs": [
        {
          "output_type": "stream",
          "name": "stdout",
          "text": [
            "[3, 7, 11, 14]\n",
            "['Ya', 'q', 5]\n"
          ]
        }
      ]
    },
    {
      "cell_type": "markdown",
      "metadata": {
        "id": "b-_r3dZC0EGh"
      },
      "source": [
        "Indeks di Python (List, Tuple) dimulai dari 0."
      ]
    },
    {
      "cell_type": "code",
      "metadata": {
        "colab": {
          "base_uri": "https://localhost:8080/"
        },
        "id": "iKwyLSs10rkV",
        "outputId": "b895db4b-a6c6-4548-db99-549388ced506"
      },
      "source": [
        "# Sifat-Sifat List\n",
        "\n",
        "#Terurut/Ordered\n",
        "print(\"memanggil List L1 dengan indeks urutan:\", L1[0:3])\n",
        "\n",
        "#Bisa diganti/Mutable\n",
        "L1[1] = 2\n",
        "print(\"List L1 setelah diganti elemennya:\", L1)\n",
        "\n",
        "#Dapat diindeks/Sliching\n",
        "print(\"Sliching List L1:\", L1[3])\n",
        "\n",
        "#Dapat diizinkan duplikasi\n",
        "L1 = [1, \"Dua\", True, 2+3j, 2+3j]\n",
        "print(\"Duplikasi pada List L1:\", L1)"
      ],
      "execution_count": 5,
      "outputs": [
        {
          "output_type": "stream",
          "name": "stdout",
          "text": [
            "memanggil List L1 dengan indeks urutan: [3, 7, 11]\n",
            "List L1 setelah diganti elemennya: [3, 2, 11, 14]\n",
            "Sliching List L1: 14\n",
            "Duplikasi pada List L1: [1, 'Dua', True, (2+3j), (2+3j)]\n"
          ]
        }
      ]
    },
    {
      "cell_type": "markdown",
      "metadata": {
        "id": "6QJ2noHV7qvH"
      },
      "source": [
        "**Latihan 2**"
      ]
    },
    {
      "cell_type": "code",
      "metadata": {
        "colab": {
          "base_uri": "https://localhost:8080/"
        },
        "id": "1I62ORHV7wip",
        "outputId": "873bbe0f-ffea-4f39-b56b-9d2102beb00a"
      },
      "source": [
        "#Ordered\n",
        "print(\"Memanggil List L1 dengan indeks urutan:\", L1[1:3])\n",
        "\n",
        "#Mutable\n",
        "L1[2] = 17\n",
        "print(\"List L1 setelah elemennya diganti:\", L1)\n",
        "\n",
        "#Sliching\n",
        "print(\"Sliching List L1:\", L2[1])\n",
        "\n",
        "#Duplikasi\n",
        "L2 = [\"Ya\", 5, \"q\", 5]\n",
        "print(\"Duplikasi pada List L2:\", L2)"
      ],
      "execution_count": 6,
      "outputs": [
        {
          "output_type": "stream",
          "name": "stdout",
          "text": [
            "Memanggil List L1 dengan indeks urutan: ['Dua', True]\n",
            "List L1 setelah elemennya diganti: [1, 'Dua', 17, (2+3j), (2+3j)]\n",
            "Sliching List L1: q\n",
            "Duplikasi pada List L2: ['Ya', 5, 'q', 5]\n"
          ]
        }
      ]
    }
  ]
}