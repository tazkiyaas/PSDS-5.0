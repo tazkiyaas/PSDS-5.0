{
  "nbformat": 4,
  "nbformat_minor": 0,
  "metadata": {
    "colab": {
      "provenance": [],
      "authorship_tag": "ABX9TyOa90Iwrfr0fJMSgI/jFV99",
      "include_colab_link": true
    },
    "kernelspec": {
      "name": "python3",
      "display_name": "Python 3"
    },
    "language_info": {
      "name": "python"
    }
  },
  "cells": [
    {
      "cell_type": "markdown",
      "metadata": {
        "id": "view-in-github",
        "colab_type": "text"
      },
      "source": [
        "<a href=\"https://colab.research.google.com/github/tazkiyaas/PSDS-5.0/blob/main/tugas_3.ipynb\" target=\"_parent\"><img src=\"https://colab.research.google.com/assets/colab-badge.svg\" alt=\"Open In Colab\"/></a>"
      ]
    },
    {
      "cell_type": "markdown",
      "source": [
        "#**Operator**\n",
        "Operator simbol-simbol yang dapat digunakan untuk mengubah nilai dari satu variabel dengan melibatkan satu atau lebih variabel dan literal.\n",
        "\n",
        "Tipe-tipe operator:\n",
        "1. Operator Aritmatika\n",
        "2. Operator Assignment\n",
        "3. Operator Pembanding\n",
        "4. Operator Logika\n",
        "5. Operator Membership"
      ],
      "metadata": {
        "id": "HYcK_ub7XEsW"
      }
    },
    {
      "cell_type": "markdown",
      "source": [
        "##**Operator Aritmatika**\n",
        "\n",
        "Operator Aritmatika digunakan untuk melakukan operasi matematika yang umum.\n",
        "\n",
        "Macam macam Operator Aritmatika, yaitu:\n",
        "```\n",
        "+ : Penjumlahan\n",
        "- : Pengurangan\n",
        "* : Perkalian\n",
        "/ : Pembagian\n",
        "% : Modulus\n",
        "**: Perpangkatan\n",
        "//: Pembagian dengan hasil pembulatan flooring\n",
        "```"
      ],
      "metadata": {
        "id": "VL29n3PmXGn4"
      }
    },
    {
      "cell_type": "markdown",
      "source": [
        "### Contoh Penggunaan Operator Aritmatika"
      ],
      "metadata": {
        "id": "nZbnOY5kXXtf"
      }
    },
    {
      "cell_type": "code",
      "source": [
        "#Penjumlahan\n",
        "print('Penjumlahan')\n",
        "print(2+2)\n",
        "\n",
        "#Pengurangan\n",
        "print('Pengurangan')\n",
        "print('-'*20)\n",
        "print(2-3)\n",
        "\n",
        "#Perkalian\n",
        "print('Perkalian')\n",
        "print('-'*20)\n",
        "print(2*3)\n",
        "\n",
        "#Pembagian\n",
        "print('Pembagian')\n",
        "print('-'*20)\n",
        "print(2/3)\n",
        "\n",
        "#Modulus\n",
        "print('Modulus')\n",
        "print('-'*20)\n",
        "print(3%2)\n",
        "\n",
        "#Perpangkatan\n",
        "print('Perpangkatan')\n",
        "print('-'*20)\n",
        "print(2**3)\n",
        "\n",
        "#Pembagian dengan hasil pembulatan flooring\n",
        "print('Pembagian pembulatan flooring')\n",
        "print('-'*20)\n",
        "print(3//2)"
      ],
      "metadata": {
        "colab": {
          "base_uri": "https://localhost:8080/"
        },
        "id": "kDuRKnrsXYt4",
        "outputId": "b90996f3-1d4b-4fe5-e45b-f09158c7a297"
      },
      "execution_count": 1,
      "outputs": [
        {
          "output_type": "stream",
          "name": "stdout",
          "text": [
            "Penjumlahan\n",
            "4\n",
            "Pengurangan\n",
            "--------------------\n",
            "-1\n",
            "Perkalian\n",
            "--------------------\n",
            "6\n",
            "Pembagian\n",
            "--------------------\n",
            "0.6666666666666666\n",
            "Modulus\n",
            "--------------------\n",
            "1\n",
            "Perpangkatan\n",
            "--------------------\n",
            "8\n",
            "Pembagian pembulatan flooring\n",
            "--------------------\n",
            "1\n"
          ]
        }
      ]
    },
    {
      "cell_type": "markdown",
      "source": [
        "###Latihan Operator 1"
      ],
      "metadata": {
        "id": "NP1WmsDOXzko"
      }
    },
    {
      "cell_type": "code",
      "source": [
        "#Buatlah Program penerapan operator Aritmatika\n",
        "#dengan nilai-nilai yang berbeda dari contoh diatas\n",
        "\n",
        "#Penjumlahan\n",
        "print('Penjumlahan')\n",
        "print(5+3)\n",
        "\n",
        "#Pengurangan\n",
        "print('Pengurangan')\n",
        "print('-'*20)\n",
        "print(5-2)\n",
        "\n",
        "#Perkalian\n",
        "print('Perkalian')\n",
        "print('-'*20)\n",
        "print(5*8)\n",
        "\n",
        "#Pembagian\n",
        "print('Pembagian')\n",
        "print('-'*20)\n",
        "print(42/6)\n",
        "\n",
        "#Modulus\n",
        "print('Modulus')\n",
        "print('-'*20)\n",
        "print(18%6)\n",
        "\n",
        "#Perpangkatan\n",
        "print('Perpangkatan')\n",
        "print('-'*20)\n",
        "print(2**5)\n",
        "\n",
        "#Pembagian dengan hasil pembulatan flooring\n",
        "print('Pembagian pembulatan flooring')\n",
        "print('-'*20)\n",
        "print(45//3)"
      ],
      "metadata": {
        "colab": {
          "base_uri": "https://localhost:8080/"
        },
        "id": "2u6IFW3NX11j",
        "outputId": "457e7ba4-e346-46dc-8226-072c48988172"
      },
      "execution_count": 4,
      "outputs": [
        {
          "output_type": "stream",
          "name": "stdout",
          "text": [
            "Penjumlahan\n",
            "8\n",
            "Pengurangan\n",
            "--------------------\n",
            "3\n",
            "Perkalian\n",
            "--------------------\n",
            "40\n",
            "Pembagian\n",
            "--------------------\n",
            "7.0\n",
            "Modulus\n",
            "--------------------\n",
            "0\n",
            "Perpangkatan\n",
            "--------------------\n",
            "32\n",
            "Pembagian pembulatan flooring\n",
            "--------------------\n",
            "15\n"
          ]
        }
      ]
    },
    {
      "cell_type": "markdown",
      "source": [
        "##Operator Assignment\n",
        "\n",
        "Operator `Assignment` digunakan untuk menyimpan nilai menjadi suatu variabel\n",
        "\n",
        "```\n",
        "=  : Contohnya x=5    -> x=5\n",
        "+= : Contohnya x=x+5  -> x+=5\n",
        "-= : Contohnya x=x-5  -> x-=5\n",
        "*= : Contohnya x=x*5  -> x*=5\n",
        "/= : Contohnya x=x/5  -> x/=5\n",
        "%= : Contohnya x=x%5  -> x%=5\n",
        "//=: Contohnya x=x//5 -> x//=5\n",
        "**=: Contohnya x=x**5 -> x**=5\n",
        "```"
      ],
      "metadata": {
        "id": "xyAZLjoQYcmY"
      }
    },
    {
      "cell_type": "markdown",
      "source": [
        "###Contoh Penggunaan Operator Assignment"
      ],
      "metadata": {
        "id": "Ecc4S76uYjFr"
      }
    },
    {
      "cell_type": "code",
      "source": [
        "#Penjumlahan\n",
        "print('Penjumlahan')\n",
        "x = 5\n",
        "x = x+5\n",
        "print(x)\n",
        "x = 5\n",
        "x += 5\n",
        "print(x)\n",
        "print('-'*20)\n",
        "\n",
        "#Pengurangan\n",
        "print('Pengurangan')\n",
        "x = 5\n",
        "x = x-5\n",
        "print(x)\n",
        "x = 5\n",
        "x -= 3\n",
        "print(x)\n",
        "print('-'*20)\n",
        "\n",
        "#Perkalian\n",
        "print('Perkalian')\n",
        "x = 5\n",
        "x = x*5\n",
        "print(x)\n",
        "x = 5\n",
        "x *= 3\n",
        "print(x)\n",
        "print('-'*20)\n",
        "\n",
        "#Pembagian\n",
        "print('Pembagian')\n",
        "x = 5\n",
        "x = x/5\n",
        "print(x)\n",
        "x = 5\n",
        "x /= 3\n",
        "print(x)\n",
        "print('-'*20)\n",
        "\n",
        "#Modulus\n",
        "print('Modulus')\n",
        "x = 5\n",
        "x = x%5\n",
        "print(x)\n",
        "x = 5\n",
        "x %= 3\n",
        "print(x)\n",
        "print('-'*20)\n",
        "\n",
        "#Pembagian Flooring\n",
        "print('Pembagian Flooring')\n",
        "x = 5\n",
        "x = x//5\n",
        "print(x)\n",
        "x = 5\n",
        "x //= 3\n",
        "print(x)\n",
        "print('-'*20)\n",
        "\n",
        "#Perpangkatan\n",
        "print('Perpangkatan')\n",
        "x = 5\n",
        "x = x**5\n",
        "print(x)\n",
        "x = 5\n",
        "x **= 3\n",
        "print(x)\n",
        "print('-'*20)"
      ],
      "metadata": {
        "colab": {
          "base_uri": "https://localhost:8080/"
        },
        "id": "LO3WTeo7YnPs",
        "outputId": "6307de97-8065-439b-f22e-15d145d069e5"
      },
      "execution_count": 3,
      "outputs": [
        {
          "output_type": "stream",
          "name": "stdout",
          "text": [
            "Penjumlahan\n",
            "10\n",
            "10\n",
            "--------------------\n",
            "Pengurangan\n",
            "0\n",
            "2\n",
            "--------------------\n",
            "Perkalian\n",
            "25\n",
            "15\n",
            "--------------------\n",
            "Pembagian\n",
            "1.0\n",
            "1.6666666666666667\n",
            "--------------------\n",
            "Modulus\n",
            "0\n",
            "2\n",
            "--------------------\n",
            "Pembagian Flooring\n",
            "1\n",
            "1\n",
            "--------------------\n",
            "Perpangkatan\n",
            "3125\n",
            "125\n",
            "--------------------\n"
          ]
        }
      ]
    },
    {
      "cell_type": "markdown",
      "source": [
        "###Latihan Operator 2"
      ],
      "metadata": {
        "id": "dtdDyjrgZL0Z"
      }
    },
    {
      "cell_type": "code",
      "source": [
        "# Buatlah program penerapan operator assignment\n",
        "# dengan nilai-nilai yang berbeda dari contoh diatas\n",
        "\n",
        "#Penjumlahan\n",
        "print('Penjumlahan')\n",
        "x = 8\n",
        "x = x+11\n",
        "print(x)\n",
        "x = 5\n",
        "x += 6\n",
        "print(x)\n",
        "print('-'*20)\n",
        "\n",
        "#Pengurangan\n",
        "print('Pengurangan')\n",
        "x = 9\n",
        "x = x-6\n",
        "print(x)\n",
        "x = 5\n",
        "x -= 2\n",
        "print(x)\n",
        "print('-'*20)\n",
        "\n",
        "#Perkalian\n",
        "print('Perkalian')\n",
        "x = 8\n",
        "x = x*3\n",
        "print(x)\n",
        "x = 13\n",
        "x *= 2\n",
        "print(x)\n",
        "print('-'*20)\n",
        "\n",
        "#Pembagian\n",
        "print('Pembagian')\n",
        "x = 52\n",
        "x = x/2\n",
        "print(x)\n",
        "x = 36\n",
        "x /= 6\n",
        "print(x)\n",
        "print('-'*20)\n",
        "\n",
        "#Modulus\n",
        "print('Modulus')\n",
        "x = 44\n",
        "x = x%3\n",
        "print(x)\n",
        "x = 94\n",
        "x %= 5\n",
        "print(x)\n",
        "print('-'*20)\n",
        "\n",
        "#Pembagian Flooring\n",
        "print('Pembagian Flooring')\n",
        "x = 26\n",
        "x = x//4\n",
        "print(x)\n",
        "x = 83\n",
        "x //= 4\n",
        "print(x)\n",
        "print('-'*20)\n",
        "\n",
        "#Perpangkatan\n",
        "print('Perpangkatan')\n",
        "x = 4\n",
        "x = x**3\n",
        "print(x)\n",
        "x = 3\n",
        "x **= 7\n",
        "print(x)\n",
        "print('-'*20)"
      ],
      "metadata": {
        "colab": {
          "base_uri": "https://localhost:8080/"
        },
        "id": "q13kpk5nZSeA",
        "outputId": "bd8f26e0-f941-454f-e52b-e99f4b60327e"
      },
      "execution_count": 5,
      "outputs": [
        {
          "output_type": "stream",
          "name": "stdout",
          "text": [
            "Penjumlahan\n",
            "19\n",
            "11\n",
            "--------------------\n",
            "Pengurangan\n",
            "3\n",
            "3\n",
            "--------------------\n",
            "Perkalian\n",
            "24\n",
            "26\n",
            "--------------------\n",
            "Pembagian\n",
            "26.0\n",
            "6.0\n",
            "--------------------\n",
            "Modulus\n",
            "2\n",
            "4\n",
            "--------------------\n",
            "Pembagian Flooring\n",
            "6\n",
            "20\n",
            "--------------------\n",
            "Perpangkatan\n",
            "64\n",
            "2187\n",
            "--------------------\n"
          ]
        }
      ]
    },
    {
      "cell_type": "markdown",
      "source": [
        "##Operator Pembanding\n",
        "\n",
        "Operator Pembanding digunakan untuk membandingkan 2 nilai atau variabel.\n",
        "\n",
        "Macam macam Operator pembanding:\n",
        "```\n",
        "== -> samadengan\n",
        "!= -> tidak samadengan\n",
        ">  -> lebih dari\n",
        "<  -> kurang dari\n",
        ">= -> lebih dari dan samadengan\n",
        "<= -> kurang dari dan samadengan\n",
        "```"
      ],
      "metadata": {
        "id": "VRd-neJNawJZ"
      }
    },
    {
      "cell_type": "markdown",
      "source": [
        "###Contoh penggunaan operator pembanding"
      ],
      "metadata": {
        "id": "hzdgD_GXa1iR"
      }
    },
    {
      "cell_type": "code",
      "source": [
        "print(2==2)\n",
        "print(2!=2)\n",
        "print(2>2)\n",
        "print(2<2)\n",
        "print(2>=2)\n",
        "print(2<=2)"
      ],
      "metadata": {
        "colab": {
          "base_uri": "https://localhost:8080/"
        },
        "id": "7CQ8u3Yqa5gs",
        "outputId": "c70e3981-7bda-473f-cc4c-79e986521187"
      },
      "execution_count": 6,
      "outputs": [
        {
          "output_type": "stream",
          "name": "stdout",
          "text": [
            "True\n",
            "False\n",
            "False\n",
            "False\n",
            "True\n",
            "True\n"
          ]
        }
      ]
    },
    {
      "cell_type": "markdown",
      "source": [
        "###Latihan Operator 3"
      ],
      "metadata": {
        "id": "hAengd5NbAul"
      }
    },
    {
      "cell_type": "code",
      "source": [
        "# Buatlah program penerapan operator pembanding\n",
        "# dengan nilai nilai yang berbeda dari contoh diatas\n",
        "\n",
        "print(37==33)\n",
        "print(5!=8)\n",
        "print(23>53)\n",
        "print(20<12)\n",
        "print(85>=67)\n",
        "print(32<28)"
      ],
      "metadata": {
        "colab": {
          "base_uri": "https://localhost:8080/"
        },
        "id": "XshmkJOtbDpU",
        "outputId": "a74028ef-b867-4388-a4e3-f04d8d03c86b"
      },
      "execution_count": 8,
      "outputs": [
        {
          "output_type": "stream",
          "name": "stdout",
          "text": [
            "False\n",
            "True\n",
            "False\n",
            "False\n",
            "True\n",
            "False\n"
          ]
        }
      ]
    },
    {
      "cell_type": "markdown",
      "source": [
        "##Operator Logika\n",
        "\n",
        "Operator logika digunakan untuk mengkombinasikan statement statement kondisional.\n",
        "\n",
        "Macam macam operator logika:\n",
        "```\n",
        "and -> kondisi menjadi benar apabila semua statementnya benar\n",
        "or  -> kondisi menjadi benar apabila salah satu statementnya ada yang benar\n",
        "not -> membalik hasil dari benar ke salah dan salah ke benar\n",
        "```"
      ],
      "metadata": {
        "id": "e3MMCg25bemV"
      }
    },
    {
      "cell_type": "markdown",
      "source": [
        "###Contoh Penggunaan Operator Logika"
      ],
      "metadata": {
        "id": "7r0Cv_rUblrm"
      }
    },
    {
      "cell_type": "code",
      "source": [
        "print(True and False)\n",
        "print(False or False)\n",
        "print(not False and True)"
      ],
      "metadata": {
        "colab": {
          "base_uri": "https://localhost:8080/"
        },
        "id": "ChEJiZ7jbphG",
        "outputId": "25f84794-729f-45eb-9d46-6bf63936046e"
      },
      "execution_count": 9,
      "outputs": [
        {
          "output_type": "stream",
          "name": "stdout",
          "text": [
            "False\n",
            "False\n",
            "True\n"
          ]
        }
      ]
    },
    {
      "cell_type": "markdown",
      "source": [
        "### Latihan Operator 4"
      ],
      "metadata": {
        "id": "Ja6Ln-OjbwiV"
      }
    },
    {
      "cell_type": "code",
      "source": [
        "#Buatlah program penerapan operator logika\n",
        "#dengan nilai nilai yang berbeda dari contoh diatas\n",
        "\n",
        "print(False and True)\n",
        "print(True or True)\n",
        "print(not False and False)"
      ],
      "metadata": {
        "colab": {
          "base_uri": "https://localhost:8080/"
        },
        "id": "KDBNasA0bx89",
        "outputId": "07eb354b-3245-4467-ca9d-7b2388162036"
      },
      "execution_count": 10,
      "outputs": [
        {
          "output_type": "stream",
          "name": "stdout",
          "text": [
            "False\n",
            "True\n",
            "False\n"
          ]
        }
      ]
    },
    {
      "cell_type": "markdown",
      "source": [
        "##Operator Membership/Keanggotaan\n",
        "\n",
        "Operator keanggotaan digunakan untuk menguji apakah urutan disajikan dalam suatu objek.\n",
        "\n",
        "Macam macam operator Keanggotaan:\n",
        "```\n",
        "in     -> return True ketika nilai tertentu dalam sebuah urutan ada\n",
        "not in -> return True ketika nilai tertentu dalam sebuah urutan tidak ada\n",
        "```"
      ],
      "metadata": {
        "id": "sTYUGhbwcCy-"
      }
    },
    {
      "cell_type": "markdown",
      "source": [
        "### Contoh penggunaan operator keanggotaan"
      ],
      "metadata": {
        "id": "kDkhbWBUcUwQ"
      }
    },
    {
      "cell_type": "code",
      "source": [
        "a = (1,2,3,4,5,6)\n",
        "b = 2\n",
        "\n",
        "print(b in a)\n",
        "\n",
        "print('-'*20)\n",
        "a = (1,2,3,4,5,6)\n",
        "b = 7\n",
        "print(b not in a)"
      ],
      "metadata": {
        "colab": {
          "base_uri": "https://localhost:8080/"
        },
        "id": "LeWzWdn9cV7p",
        "outputId": "0726cbb5-ab40-4eac-b223-c8eefbbd80d0"
      },
      "execution_count": 11,
      "outputs": [
        {
          "output_type": "stream",
          "name": "stdout",
          "text": [
            "True\n",
            "--------------------\n",
            "True\n"
          ]
        }
      ]
    },
    {
      "cell_type": "markdown",
      "source": [
        "###Latihan operator 5"
      ],
      "metadata": {
        "id": "mdGTqwxGcai7"
      }
    },
    {
      "cell_type": "code",
      "source": [
        "# Buatlah program penerapan operator keanggotaan membership\n",
        "# dengan nilai nilai yang berbeda dari contoh diatas\n",
        "\n",
        "x = (7,8,9,11,12,13)\n",
        "y = 10\n",
        "print(y in x)\n",
        "\n",
        "print('-'*20)\n",
        "m = (1,3,5,6,11,13,15)\n",
        "n = 9\n",
        "print(n not in m)"
      ],
      "metadata": {
        "colab": {
          "base_uri": "https://localhost:8080/"
        },
        "id": "AWPC35xvcdQT",
        "outputId": "ee4d8fdf-dcf8-4418-f8db-ad2bba02f741"
      },
      "execution_count": 12,
      "outputs": [
        {
          "output_type": "stream",
          "name": "stdout",
          "text": [
            "False\n",
            "--------------------\n",
            "True\n"
          ]
        }
      ]
    },
    {
      "cell_type": "markdown",
      "source": [
        "#**Variabel**\n",
        "Variabel : Lokal penyimpanan yang dapat digunakan untuk menampung sebuah data atau informasi.\n",
        "\n",
        "Syarat syarat penamaan variabel:\n",
        "1. Karakter-karakter yang digunakan untuk penamaan variabel adalah alphabet, angka dan underscore.\n",
        "2. Karakter pertama variabel harus berupa huruf atau garis bawah/underscore, dan tidak bisa berupa angka\n",
        "3. Nama sebuah variabel tidak bisa menggunakan keyword atau reserved words dari bahasa python seperti for, if dan lainnya.\n",
        "4. Karakter pada nama variabel bersifat sensitif (case-sensitif)"
      ],
      "metadata": {
        "id": "y8bWh73_dH5n"
      }
    },
    {
      "cell_type": "code",
      "source": [
        "# membuat variabel\n",
        "kalimat = 'ini adalah variabel'\n",
        "bilangan1 = 4\n",
        "bilangan2 = 2.5\n",
        "bilangan3 = True\n",
        "bilangan4 = 1j + 4\n",
        "\n",
        "#menampilkan variabel\n",
        "print(kalimat)\n",
        "print(bilangan1)\n",
        "print(bilangan2)\n",
        "print(bilangan3)\n",
        "print(bilangan4)"
      ],
      "metadata": {
        "colab": {
          "base_uri": "https://localhost:8080/"
        },
        "id": "HB09wotZdMcv",
        "outputId": "fc779964-1e35-49ae-ec4f-494da5dcc9b4"
      },
      "execution_count": 13,
      "outputs": [
        {
          "output_type": "stream",
          "name": "stdout",
          "text": [
            "ini adalah variabel\n",
            "4\n",
            "2.5\n",
            "True\n",
            "(4+1j)\n"
          ]
        }
      ]
    },
    {
      "cell_type": "markdown",
      "source": [
        "###Latihan 1"
      ],
      "metadata": {
        "id": "wBI1K6nBdTPa"
      }
    },
    {
      "cell_type": "code",
      "source": [
        "#buatlah 5 variabel kalian sendiri dengan 5 macam tipe data\n",
        "#lalu tampilkan variabel menggunakan fungsi print\n",
        "\n",
        "#Membuat Vzriabel\n",
        "a = 'Kelas Riset Operasi'\n",
        "b = 73\n",
        "c = 8.3\n",
        "d = False\n",
        "e = 6j + 3\n",
        "\n",
        "#Menampilkan variabel\n",
        "print(a)\n",
        "print(b)\n",
        "print(c)\n",
        "print(d)\n",
        "print(e)"
      ],
      "metadata": {
        "colab": {
          "base_uri": "https://localhost:8080/"
        },
        "id": "yayCyhkUdUXb",
        "outputId": "9299205a-8540-4beb-ec43-a7a4eee6c382"
      },
      "execution_count": 14,
      "outputs": [
        {
          "output_type": "stream",
          "name": "stdout",
          "text": [
            "Kelas Riset Operasi\n",
            "73\n",
            "8.3\n",
            "False\n",
            "(3+6j)\n"
          ]
        }
      ]
    },
    {
      "cell_type": "markdown",
      "source": [
        "#**Tipe Data & Konversi Tipe Data**\n",
        "\n",
        "## Tipe Data\n",
        "\n",
        "5 tipe data yaitu\n",
        "1. Integer atau bilangan bulat\n",
        "2. Float atau bilangan desimal\n",
        "3. String atau kalimat\n",
        "4. Boolean yang terdiri dari True dan False\n",
        "5. Complex yang merupakan bilangan kompleks"
      ],
      "metadata": {
        "id": "Aa3LDYacdr7p"
      }
    },
    {
      "cell_type": "code",
      "source": [
        "#Menampilkan tipe data\n",
        "print(type(kalimat))\n",
        "print(type(bilangan1))\n",
        "print(type(bilangan2))\n",
        "print(type(bilangan3))\n",
        "print(type(bilangan4))"
      ],
      "metadata": {
        "colab": {
          "base_uri": "https://localhost:8080/"
        },
        "id": "5Bv62eFHdwYP",
        "outputId": "3f9dfdf3-3c7f-4ff6-cc41-4c2821ccf097"
      },
      "execution_count": 15,
      "outputs": [
        {
          "output_type": "stream",
          "name": "stdout",
          "text": [
            "<class 'str'>\n",
            "<class 'int'>\n",
            "<class 'float'>\n",
            "<class 'bool'>\n",
            "<class 'complex'>\n"
          ]
        }
      ]
    },
    {
      "cell_type": "markdown",
      "source": [
        "###Latihan 2"
      ],
      "metadata": {
        "id": "dzROH4ODd04h"
      }
    },
    {
      "cell_type": "code",
      "source": [
        "# cek tipe data variabel yang telah kalian buat pada latihan 1\n",
        "\n",
        "#Menampilkan tipe data\n",
        "print(type(e))\n",
        "print(type(n))\n",
        "print(type(y))\n",
        "print(type(bilangan3))\n",
        "print(type(bilangan2))"
      ],
      "metadata": {
        "colab": {
          "base_uri": "https://localhost:8080/"
        },
        "id": "tdoFEKCxd3zE",
        "outputId": "027b0ac9-dade-419e-e687-88fb64d1db1e"
      },
      "execution_count": 20,
      "outputs": [
        {
          "output_type": "stream",
          "name": "stdout",
          "text": [
            "<class 'complex'>\n",
            "<class 'int'>\n",
            "<class 'int'>\n",
            "<class 'bool'>\n",
            "<class 'float'>\n"
          ]
        }
      ]
    },
    {
      "cell_type": "markdown",
      "source": [
        "## Konversi Tipe Data"
      ],
      "metadata": {
        "id": "jnRz3A5TfpRr"
      }
    },
    {
      "cell_type": "code",
      "source": [
        "#konversi tipe data integer\n",
        "print(int(bilangan2))\n",
        "print(int(bilangan3))\n",
        "\n",
        "#konversi tipe data float\n",
        "print(float(bilangan1))\n",
        "print(float(bilangan3))\n",
        "\n",
        "#konversi tipe data string\n",
        "print(str(bilangan1))\n",
        "print(str(bilangan2))\n",
        "print(str(bilangan3))\n",
        "\n",
        "#konversi tipe data bool\n",
        "print(bool(bilangan1))\n",
        "print(bool(bilangan2))\n",
        "\n",
        "#konversi tipe data complex\n",
        "print(complex(bilangan1))\n",
        "print(complex(bilangan2))\n",
        "print(complex(bilangan3))"
      ],
      "metadata": {
        "colab": {
          "base_uri": "https://localhost:8080/"
        },
        "id": "a6RyXIBpfqK0",
        "outputId": "042fdee2-ffec-4fba-b9fb-44c3edca1d0f"
      },
      "execution_count": 21,
      "outputs": [
        {
          "output_type": "stream",
          "name": "stdout",
          "text": [
            "2\n",
            "1\n",
            "4.0\n",
            "1.0\n",
            "4\n",
            "2.5\n",
            "True\n",
            "True\n",
            "True\n",
            "(4+0j)\n",
            "(2.5+0j)\n",
            "(1+0j)\n"
          ]
        }
      ]
    },
    {
      "cell_type": "markdown",
      "source": [
        "###Latihan 3"
      ],
      "metadata": {
        "id": "ZaFG4nFbfxdw"
      }
    },
    {
      "cell_type": "code",
      "source": [
        "#konversi tipe data yang telah kalian buat\n",
        "#menjadi berbagai macam tipe data\n",
        "\n",
        "#konversi tipe data integer\n",
        "print(int(n))\n",
        "print(int(y))\n",
        "\n",
        "#konversi tipe data float\n",
        "print(float(b))\n",
        "print(float(n))\n",
        "\n",
        "#konversi tipe data string\n",
        "print(str(bilangan3))\n",
        "print(str(y))\n",
        "print(str(bilangan2))\n",
        "print(str(e))\n",
        "\n",
        "#konversi tipe data bool\n",
        "print(bool(e))\n",
        "print(bool(n))\n",
        "print(bool(a))\n",
        "\n",
        "#konversi tipe data complex\n",
        "print(complex(n))\n",
        "print(complex(y))\n",
        "print(complex(d))"
      ],
      "metadata": {
        "colab": {
          "base_uri": "https://localhost:8080/"
        },
        "id": "Ve1mJzqpfzC2",
        "outputId": "c7ae3b57-ae82-46c2-a346-2badf231f452"
      },
      "execution_count": 26,
      "outputs": [
        {
          "output_type": "stream",
          "name": "stdout",
          "text": [
            "9\n",
            "10\n",
            "73.0\n",
            "9.0\n",
            "True\n",
            "10\n",
            "2.5\n",
            "(3+6j)\n",
            "True\n",
            "True\n",
            "True\n",
            "(9+0j)\n",
            "(10+0j)\n",
            "0j\n"
          ]
        }
      ]
    },
    {
      "cell_type": "code",
      "source": [],
      "metadata": {
        "id": "aZUOiS-Pf-bP"
      },
      "execution_count": null,
      "outputs": []
    }
  ]
}